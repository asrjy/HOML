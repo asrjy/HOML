{
 "cells": [
  {
   "cell_type": "markdown",
   "metadata": {},
   "source": [
    "# numpy stuff"
   ]
  },
  {
   "cell_type": "markdown",
   "metadata": {},
   "source": [
    "###### cool cool cool "
   ]
  },
  {
   "cell_type": "code",
   "execution_count": 306,
   "metadata": {},
   "outputs": [],
   "source": [
    "import numpy as np"
   ]
  },
  {
   "cell_type": "code",
   "execution_count": 307,
   "metadata": {},
   "outputs": [],
   "source": [
    "# dimension = axis\n",
    "# n(axis) = rank\n",
    "# shape = tuple containing the axis lengths => rank = length of shape"
   ]
  },
  {
   "cell_type": "code",
   "execution_count": 308,
   "metadata": {},
   "outputs": [
    {
     "data": {
      "text/plain": [
       "(3, 4)"
      ]
     },
     "execution_count": 308,
     "metadata": {},
     "output_type": "execute_result"
    }
   ],
   "source": [
    "# get the shape of the ndarray\n",
    "z34 = np.zeros((3,4))\n",
    "z34.shape "
   ]
  },
  {
   "cell_type": "code",
   "execution_count": 309,
   "metadata": {
    "scrolled": true
   },
   "outputs": [
    {
     "data": {
      "text/plain": [
       "2"
      ]
     },
     "execution_count": 309,
     "metadata": {},
     "output_type": "execute_result"
    }
   ],
   "source": [
    "#get the number of dimensions of the array\n",
    "z34.ndim"
   ]
  },
  {
   "cell_type": "code",
   "execution_count": 310,
   "metadata": {},
   "outputs": [
    {
     "data": {
      "text/plain": [
       "12"
      ]
     },
     "execution_count": 310,
     "metadata": {},
     "output_type": "execute_result"
    }
   ],
   "source": [
    "#get the product of the elements in shape which tells us the number of elements in the ndarray\n",
    "z34.size"
   ]
  },
  {
   "cell_type": "code",
   "execution_count": 311,
   "metadata": {},
   "outputs": [
    {
     "data": {
      "text/plain": [
       "array([[[0., 0., 0., 0.],\n",
       "        [0., 0., 0., 0.],\n",
       "        [0., 0., 0., 0.]],\n",
       "\n",
       "       [[0., 0., 0., 0.],\n",
       "        [0., 0., 0., 0.],\n",
       "        [0., 0., 0., 0.]]])"
      ]
     },
     "execution_count": 311,
     "metadata": {},
     "output_type": "execute_result"
    }
   ],
   "source": [
    "#create an n dimensional array\n",
    "np.zeros((2,3,4))"
   ]
  },
  {
   "cell_type": "code",
   "execution_count": 312,
   "metadata": {},
   "outputs": [
    {
     "data": {
      "text/plain": [
       "numpy.ndarray"
      ]
     },
     "execution_count": 312,
     "metadata": {},
     "output_type": "execute_result"
    }
   ],
   "source": [
    "# spit the type of the array\n",
    "type(np.zeros((2,3,4)))"
   ]
  },
  {
   "cell_type": "code",
   "execution_count": 313,
   "metadata": {},
   "outputs": [],
   "source": [
    "#similar to np.zeros excepp youll have ones inside\n",
    "o42 = np.ones((4,2))"
   ]
  },
  {
   "cell_type": "code",
   "execution_count": 314,
   "metadata": {},
   "outputs": [
    {
     "data": {
      "text/plain": [
       "array([[1., 1.],\n",
       "       [1., 1.],\n",
       "       [1., 1.],\n",
       "       [1., 1.]])"
      ]
     },
     "execution_count": 314,
     "metadata": {},
     "output_type": "execute_result"
    }
   ],
   "source": [
    "o42"
   ]
  },
  {
   "cell_type": "code",
   "execution_count": 315,
   "metadata": {},
   "outputs": [],
   "source": [
    "#fills the array with the element specified. here it will be filled with 42 cuz \n",
    "f42 = np.full((4,2), 42)"
   ]
  },
  {
   "cell_type": "code",
   "execution_count": 316,
   "metadata": {},
   "outputs": [
    {
     "data": {
      "text/plain": [
       "array([[42, 42],\n",
       "       [42, 42],\n",
       "       [42, 42],\n",
       "       [42, 42]])"
      ]
     },
     "execution_count": 316,
     "metadata": {},
     "output_type": "execute_result"
    }
   ],
   "source": [
    "f42"
   ]
  },
  {
   "cell_type": "code",
   "execution_count": 317,
   "metadata": {},
   "outputs": [],
   "source": [
    "# np.pi == 3.148369\n",
    "fpi42 = np.full((4,2), np.pi)"
   ]
  },
  {
   "cell_type": "code",
   "execution_count": 318,
   "metadata": {},
   "outputs": [
    {
     "data": {
      "text/plain": [
       "array([[3.14159265, 3.14159265],\n",
       "       [3.14159265, 3.14159265],\n",
       "       [3.14159265, 3.14159265],\n",
       "       [3.14159265, 3.14159265]])"
      ]
     },
     "execution_count": 318,
     "metadata": {},
     "output_type": "execute_result"
    }
   ],
   "source": [
    "fpi42"
   ]
  },
  {
   "cell_type": "code",
   "execution_count": 319,
   "metadata": {},
   "outputs": [
    {
     "data": {
      "text/plain": [
       "array([[3.14159265, 3.14159265],\n",
       "       [3.14159265, 3.14159265],\n",
       "       [3.14159265, 3.14159265],\n",
       "       [3.14159265, 3.14159265]])"
      ]
     },
     "execution_count": 319,
     "metadata": {},
     "output_type": "execute_result"
    }
   ],
   "source": [
    "# the element which is going to be inside is unpredictable. it is whatever is in the memory at that point.\n",
    "np.empty((4,2))"
   ]
  },
  {
   "cell_type": "code",
   "execution_count": 320,
   "metadata": {},
   "outputs": [
    {
     "data": {
      "text/plain": [
       "array([[8, 3, 3, 2, 9],\n",
       "       [8, 1, 4, 9, 8]])"
      ]
     },
     "execution_count": 320,
     "metadata": {},
     "output_type": "execute_result"
    }
   ],
   "source": [
    "# converts virgin python lists to chad ndarray\n",
    "np.array([[8,3,3,2,9],[8,1,4,9,8]])"
   ]
  },
  {
   "cell_type": "code",
   "execution_count": 321,
   "metadata": {},
   "outputs": [
    {
     "data": {
      "text/plain": [
       "array([0, 1, 2, 3, 4, 5, 6, 7, 8, 9])"
      ]
     },
     "execution_count": 321,
     "metadata": {},
     "output_type": "execute_result"
    }
   ],
   "source": [
    "#works like python range function\n",
    "np.arange(10)"
   ]
  },
  {
   "cell_type": "code",
   "execution_count": 322,
   "metadata": {},
   "outputs": [
    {
     "data": {
      "text/plain": [
       "array([1., 2., 3.])"
      ]
     },
     "execution_count": 322,
     "metadata": {},
     "output_type": "execute_result"
    }
   ],
   "source": [
    "#also works with float values\n",
    "np.arange(1.0, 4.0)"
   ]
  },
  {
   "cell_type": "code",
   "execution_count": 323,
   "metadata": {},
   "outputs": [
    {
     "data": {
      "text/plain": [
       "array([1., 3., 5., 7., 9.])"
      ]
     },
     "execution_count": 323,
     "metadata": {},
     "output_type": "execute_result"
    }
   ],
   "source": [
    "#can provide steps cuz its similar to range in vanilla python brih\n",
    "np.arange(1.0, 10.0, 2.0)"
   ]
  },
  {
   "cell_type": "code",
   "execution_count": 324,
   "metadata": {},
   "outputs": [
    {
     "data": {
      "text/plain": [
       "array([1.        , 2.66666667, 4.33333333, 6.        , 7.66666667,\n",
       "       9.33333333])"
      ]
     },
     "execution_count": 324,
     "metadata": {},
     "output_type": "execute_result"
    }
   ],
   "source": [
    "#when dealing with float step values, the number of elements varies. might not be what you expected it to be\n",
    "np.arange(1.0, 10.0, 5/3)"
   ]
  },
  {
   "cell_type": "code",
   "execution_count": 325,
   "metadata": {},
   "outputs": [
    {
     "data": {
      "text/plain": [
       "array([ 1.,  2.,  3.,  4.,  5.,  6.,  7.,  8.,  9., 10.])"
      ]
     },
     "execution_count": 325,
     "metadata": {},
     "output_type": "execute_result"
    }
   ],
   "source": [
    "#which is why you use linspace. it returns an ndarray with 'step' number of equally spaced elements\n",
    "np.linspace(1.0, 10.0, 10)"
   ]
  },
  {
   "cell_type": "code",
   "execution_count": 326,
   "metadata": {},
   "outputs": [
    {
     "data": {
      "text/plain": [
       "array([[0.17652319, 0.68489596, 0.23782081, 0.83755054],\n",
       "       [0.8124026 , 0.65780821, 0.21179097, 0.30044343],\n",
       "       [0.99159663, 0.5538246 , 0.10974304, 0.33008993]])"
      ]
     },
     "execution_count": 326,
     "metadata": {},
     "output_type": "execute_result"
    }
   ],
   "source": [
    "#random floats between 0 and 1 with UNIFORM DISTRIBUTION\n",
    "np.random.rand(3,4)"
   ]
  },
  {
   "cell_type": "code",
   "execution_count": 327,
   "metadata": {},
   "outputs": [
    {
     "data": {
      "text/plain": [
       "0.5521578719510395"
      ]
     },
     "execution_count": 327,
     "metadata": {},
     "output_type": "execute_result"
    }
   ],
   "source": [
    "#random floats between 0 and 1 with NORMAL DISTRIBUTION\n",
    "np.random.randn()"
   ]
  },
  {
   "cell_type": "code",
   "execution_count": 328,
   "metadata": {},
   "outputs": [],
   "source": [
    "%matplotlib inline\n",
    "import matplotlib.pyplot as plt"
   ]
  },
  {
   "cell_type": "code",
   "execution_count": 329,
   "metadata": {},
   "outputs": [
    {
     "data": {
      "image/png": "[encoded data removed]",
      "text/plain": [
       "<Figure size 432x288 with 1 Axes>"
      ]
     },
     "metadata": {
      "needs_background": "light"
     },
     "output_type": "display_data"
    }
   ],
   "source": [
    "#plotting various random value distributions to see wassup\n",
    "plt.hist(np.random.rand(100000), density=True, bins=100, histtype=\"step\", color=\"green\", label=\"rand\")\n",
    "plt.hist(np.random.randn(100000), density=True, bins=100, histtype=\"step\", color=\"orange\", label=\"randn\")\n",
    "plt.axis([-2.5, 2.5, 0, 1.1])\n",
    "plt.legend(loc = \"upper left\")\n",
    "plt.title(\"Random distributions\")\n",
    "plt.xlabel(\"Value\")\n",
    "plt.ylabel(\"Density\")\n",
    "plt.show()"
   ]
  },
  {
   "cell_type": "code",
   "execution_count": 330,
   "metadata": {},
   "outputs": [
    {
     "data": {
      "text/plain": [
       "array([[[ 0.,  0.,  0.,  0.,  0.,  0.,  0.,  0.,  0.,  0.],\n",
       "        [ 0.,  1.,  2.,  3.,  4.,  5.,  6.,  7.,  8.,  9.]],\n",
       "\n",
       "       [[ 1.,  1.,  1.,  1.,  1.,  1.,  1.,  1.,  1.,  1.],\n",
       "        [ 1.,  2.,  3.,  4.,  5.,  6.,  7.,  8.,  9., 10.]],\n",
       "\n",
       "       [[ 2.,  2.,  2.,  2.,  2.,  2.,  2.,  2.,  2.,  2.],\n",
       "        [ 2.,  3.,  4.,  5.,  6.,  7.,  8.,  9., 10., 11.]]])"
      ]
     },
     "execution_count": 330,
     "metadata": {},
     "output_type": "execute_result"
    }
   ],
   "source": [
    "#we can also initialize nd arrays from functions\n",
    "def my_function(z, y, x):\n",
    "    return x * y + z\n",
    "\n",
    "np.fromfunction(my_function, (3, 2, 10))"
   ]
  },
  {
   "cell_type": "code",
   "execution_count": 331,
   "metadata": {},
   "outputs": [
    {
     "data": {
      "text/plain": [
       "(dtype('int64'), array([0, 1, 2, 3, 4]))"
      ]
     },
     "execution_count": 331,
     "metadata": {},
     "output_type": "execute_result"
    }
   ],
   "source": [
    "# all ndarray elements need to be of the same datatype\n",
    "# so you can tell the datatype of the array by looking at the elements of the array\n",
    "x = np.arange(5)\n",
    "x.dtype, x"
   ]
  },
  {
   "cell_type": "code",
   "execution_count": 332,
   "metadata": {},
   "outputs": [
    {
     "data": {
      "text/plain": [
       "(dtype('float64'), array([0., 1., 2., 3., 4.]))"
      ]
     },
     "execution_count": 332,
     "metadata": {},
     "output_type": "execute_result"
    }
   ],
   "source": [
    "f = np.arange(5.0)\n",
    "f.dtype, f"
   ]
  },
  {
   "cell_type": "code",
   "execution_count": 333,
   "metadata": {},
   "outputs": [
    {
     "data": {
      "text/plain": [
       "(dtype('float64'), array([0., 1., 2., 3., 4.]))"
      ]
     },
     "execution_count": 333,
     "metadata": {},
     "output_type": "execute_result"
    }
   ],
   "source": [
    "# instead of allowing numpy to set a datatype, we can use dtype parameter to set it ourselves\n",
    "x = np.arange(5, dtype=np.float64)\n",
    "x.dtype, x\n",
    "#Available data types include int8, int16, int32, int64, uint8|16|32|64, float16|32|64 and complex64|128."
   ]
  },
  {
   "cell_type": "code",
   "execution_count": 334,
   "metadata": {},
   "outputs": [
    {
     "data": {
      "text/plain": [
       "8"
      ]
     },
     "execution_count": 334,
     "metadata": {},
     "output_type": "execute_result"
    }
   ],
   "source": [
    "# we can get the amount of bytes an array is using by itemsize attribute\n",
    "isize = np.arange(15.0)\n",
    "isize.itemsize"
   ]
  },
  {
   "cell_type": "code",
   "execution_count": 335,
   "metadata": {},
   "outputs": [
    {
     "name": "stdout",
     "output_type": "stream",
     "text": [
      "[ 0  1  2  3  4  5  6  7  8  9 10 11 12 13 14 15 16 17 18 19 20 21 22 23\n",
      " 24]\n",
      "Square Matrix Dimensions:  1\n"
     ]
    }
   ],
   "source": [
    "#reshaping an array\n",
    "matrix = np.arange(25)\n",
    "print(matrix)\n",
    "print(\"Square Matrix Dimensions: \", matrix.ndim)"
   ]
  },
  {
   "cell_type": "code",
   "execution_count": 336,
   "metadata": {},
   "outputs": [],
   "source": [
    "# in place. modifies the original array\n",
    "matrix.shape = (5, 5) "
   ]
  },
  {
   "cell_type": "code",
   "execution_count": 337,
   "metadata": {},
   "outputs": [
    {
     "name": "stdout",
     "output_type": "stream",
     "text": [
      "[[ 0  1  2  3  4]\n",
      " [ 5  6  7  8  9]\n",
      " [10 11 12 13 14]\n",
      " [15 16 17 18 19]\n",
      " [20 21 22 23 24]]\n",
      "Square Matrix Dimensions:  2\n"
     ]
    }
   ],
   "source": [
    "print(matrix)\n",
    "print(\"Square Matrix Dimensions: \", matrix.ndim)"
   ]
  },
  {
   "cell_type": "code",
   "execution_count": 338,
   "metadata": {},
   "outputs": [
    {
     "name": "stdout",
     "output_type": "stream",
     "text": [
      "[ 0  1  2  3  4  5  6  7  8  9 10 11 12 13 14 15 16 17 18 19 20 21 22 23\n",
      " 24]\n",
      "[[ 0  1  2  3  4]\n",
      " [ 5  6  7  8  9]\n",
      " [10 11 12 13 14]\n",
      " [15 16 17 18 19]\n",
      " [20 21 22 23 24]]\n"
     ]
    }
   ],
   "source": [
    "# using reshape does not modify the original array. it returns a copy of the original array in the shape specified\n",
    "matrix_2 = np.arange(25)\n",
    "matrix_3 = matrix_2.reshape(5,5)\n",
    "print(matrix_2)\n",
    "print(matrix_3)"
   ]
  },
  {
   "cell_type": "code",
   "execution_count": 339,
   "metadata": {},
   "outputs": [
    {
     "name": "stdout",
     "output_type": "stream",
     "text": [
      "[[  0   1   2   3   4]\n",
      " [  5   6   7   8   9]\n",
      " [ 10  11  12  13  14]\n",
      " [ 15  16  17  18  19]\n",
      " [ 20  21  22  23 420]]\n",
      "\n",
      "[  0   1   2   3   4   5   6   7   8   9  10  11  12  13  14  15  16  17\n",
      "  18  19  20  21  22  23 420]\n"
     ]
    }
   ],
   "source": [
    "# can change the elements of the array as usual\n",
    "# zero based indexing btw\n",
    "matrix_3[4][4] = 420\n",
    "print(matrix_3)\n",
    "print()\n",
    "# also changes the corresponding element in matrix 2 ( the matrix which is the parent of this)\n",
    "print(matrix_2)"
   ]
  },
  {
   "cell_type": "code",
   "execution_count": 340,
   "metadata": {},
   "outputs": [
    {
     "data": {
      "text/plain": [
       "(array([  0,   1,   2,   3,   4,   5,   6,   7,   8,   9,  10,  11,  12,\n",
       "         13,  14,  15,  16,  17,  18,  19,  20,  21,  22,  23, 420]),\n",
       " (25,))"
      ]
     },
     "execution_count": 340,
     "metadata": {},
     "output_type": "execute_result"
    }
   ],
   "source": [
    "# ravel returns a new one dimensional array of the array passed\n",
    "matrix_3.ravel(), matrix_3.ravel().shape"
   ]
  },
  {
   "cell_type": "code",
   "execution_count": 341,
   "metadata": {},
   "outputs": [
    {
     "name": "stdout",
     "output_type": "stream",
     "text": [
      "[ 5  7  9 11 13]\n",
      "[-5 -5 -5 -5 -5]\n",
      "[ 0  6 14 24 36]\n",
      "[0.         0.16666667 0.28571429 0.375      0.44444444]\n",
      "[0 0 0 0 0]\n",
      "[0 1 2 3 4]\n",
      "[     0      1    128   6561 262144]\n"
     ]
    }
   ],
   "source": [
    "# arithmetic operations\n",
    "# all arithmetic operations are applied element wise. even multiplication\n",
    "\n",
    "a = np.arange(5)\n",
    "b = np.arange(5,10)\n",
    "print(a+b)\n",
    "print(a-b)\n",
    "print(a*b)\n",
    "print(a/b)\n",
    "print(a//b)\n",
    "print(a%b)\n",
    "print(a**b)"
   ]
  },
  {
   "cell_type": "code",
   "execution_count": 342,
   "metadata": {},
   "outputs": [],
   "source": [
    "# the arrays must be of the same shape. otherwise numpy will apply it's broadcasting rules.\n",
    "# plox reFUR = https://www.geeksforgeeks.org/python-broadcasting-with-numpy-arrays/\n",
    "# plox also reFUR = https://docs.scipy.org/doc/numpy/user/basics.broadcasting.html"
   ]
  },
  {
   "cell_type": "code",
   "execution_count": 343,
   "metadata": {},
   "outputs": [
    {
     "data": {
      "text/plain": [
       "499.5"
      ]
     },
     "execution_count": 343,
     "metadata": {},
     "output_type": "execute_result"
    }
   ],
   "source": [
    "# mean of an array\n",
    "# mean works irrespective of the dimension i.e., it takes all of the elements into consideration\n",
    "a = np.arange(1000).reshape((4, -1))\n",
    "a.mean()"
   ]
  },
  {
   "cell_type": "code",
   "execution_count": 344,
   "metadata": {},
   "outputs": [
    {
     "name": "stdout",
     "output_type": "stream",
     "text": [
      "[ True  True False False]\n",
      "[  1 -61]\n"
     ]
    }
   ],
   "source": [
    "# conditional operators\n",
    "m = np.array([1, -61, 26, 34])\n",
    "print(m < 25) # applies broadcasting and returns an array of bool values. it's equi to comparing with [25, 25, 25, 25]\n",
    "# it's useful for boolean based indexing\n",
    "print(m[m < 25])"
   ]
  },
  {
   "cell_type": "markdown",
   "metadata": {},
   "source": [
    "#### Mathematical Functions"
   ]
  },
  {
   "cell_type": "code",
   "execution_count": 345,
   "metadata": {},
   "outputs": [
    {
     "name": "stdout",
     "output_type": "stream",
     "text": [
      "[[  1   2   3   4]\n",
      " [ -6  -8 -98 -22]]\n",
      "-15.5\n"
     ]
    }
   ],
   "source": [
    "# mean \n",
    "# computes the mean of all the elements irrespective of the shape\n",
    "a = np.array([[1, 2, 3, 4], [-6, -8, -98, -22]])\n",
    "print(a)\n",
    "print(a.mean())"
   ]
  },
  {
   "cell_type": "code",
   "execution_count": 346,
   "metadata": {},
   "outputs": [
    {
     "name": "stdout",
     "output_type": "stream",
     "text": [
      "min = -98\n",
      "max = 4\n",
      "sum = -124\n",
      "prod = 2483712\n",
      "std = 32.202484376209235\n",
      "var = 1037.0\n"
     ]
    }
   ],
   "source": [
    "for func in (a.min, a.max, a.sum, a.prod, a.std, a.var):\n",
    "    print(func.__name__, \"=\", func())"
   ]
  },
  {
   "cell_type": "code",
   "execution_count": 347,
   "metadata": {},
   "outputs": [
    {
     "data": {
      "text/plain": [
       "array([[[ 0,  1,  2,  3,  4],\n",
       "        [ 5,  6,  7,  8,  9],\n",
       "        [10, 11, 12, 13, 14],\n",
       "        [15, 16, 17, 18, 19],\n",
       "        [20, 21, 22, 23, 24]],\n",
       "\n",
       "       [[25, 26, 27, 28, 29],\n",
       "        [30, 31, 32, 33, 34],\n",
       "        [35, 36, 37, 38, 39],\n",
       "        [40, 41, 42, 43, 44],\n",
       "        [45, 46, 47, 48, 49]]])"
      ]
     },
     "execution_count": 347,
     "metadata": {},
     "output_type": "execute_result"
    }
   ],
   "source": [
    "# we can specify the axis parameter to define which way to perform the functions\n",
    "# for example\n",
    "a = np.arange(50).reshape(2, 5, -1)\n",
    "a"
   ]
  },
  {
   "cell_type": "code",
   "execution_count": 348,
   "metadata": {},
   "outputs": [
    {
     "data": {
      "text/plain": [
       "array([[25, 27, 29, 31, 33],\n",
       "       [35, 37, 39, 41, 43],\n",
       "       [45, 47, 49, 51, 53],\n",
       "       [55, 57, 59, 61, 63],\n",
       "       [65, 67, 69, 71, 73]])"
      ]
     },
     "execution_count": 348,
     "metadata": {},
     "output_type": "execute_result"
    }
   ],
   "source": [
    "# axis = 0\n",
    "# sum across the two matrices i.e., sum of the two matrices\n",
    "a.sum(axis = 0)"
   ]
  },
  {
   "cell_type": "code",
   "execution_count": 349,
   "metadata": {},
   "outputs": [
    {
     "data": {
      "text/plain": [
       "array([[ 50,  55,  60,  65,  70],\n",
       "       [175, 180, 185, 190, 195]])"
      ]
     },
     "execution_count": 349,
     "metadata": {},
     "output_type": "execute_result"
    }
   ],
   "source": [
    "# axis = 1\n",
    "# sum across the rows\n",
    "a.sum(axis = 1)"
   ]
  },
  {
   "cell_type": "code",
   "execution_count": 350,
   "metadata": {},
   "outputs": [
    {
     "data": {
      "text/plain": [
       "array([[ 10,  35,  60,  85, 110],\n",
       "       [135, 160, 185, 210, 235]])"
      ]
     },
     "execution_count": 350,
     "metadata": {},
     "output_type": "execute_result"
    }
   ],
   "source": [
    "# axis = 2\n",
    "# sum across the columns\n",
    "a.sum(axis = 2)"
   ]
  },
  {
   "cell_type": "code",
   "execution_count": 351,
   "metadata": {},
   "outputs": [
    {
     "data": {
      "text/plain": [
       "array([300, 925])"
      ]
     },
     "execution_count": 351,
     "metadata": {},
     "output_type": "execute_result"
    }
   ],
   "source": [
    "# we can also find sum over multiple axes\n",
    "# sum across the rows and columns i.e., sum of individual matrices\n",
    "a.sum(axis = (1, 2))"
   ]
  },
  {
   "cell_type": "code",
   "execution_count": 352,
   "metadata": {},
   "outputs": [
    {
     "data": {
      "text/plain": [
       "array([[ 1,  4,  9, 16],\n",
       "       [81, 64, 49, 36]])"
      ]
     },
     "execution_count": 352,
     "metadata": {},
     "output_type": "execute_result"
    }
   ],
   "source": [
    "# Universal Functions: *ufunc* -> They take an array and return a new array. They are vectorized wrappers of the original function.\n",
    "# ex\n",
    "a = np.array([[1, 2, 3, 4], [9, -8, 7, 6]])\n",
    "np.square(a)"
   ]
  },
  {
   "cell_type": "code",
   "execution_count": 353,
   "metadata": {},
   "outputs": [
    {
     "name": "stdout",
     "output_type": "stream",
     "text": [
      "<ufunc 'absolute'>\n",
      "[[1 2 3 4]\n",
      " [9 8 7 6]] \n",
      "\n",
      "<ufunc 'sqrt'>\n",
      "[[1.         1.41421356 1.73205081 2.        ]\n",
      " [3.                nan 2.64575131 2.44948974]] \n",
      "\n",
      "<ufunc 'exp'>\n",
      "[[2.71828183e+00 7.38905610e+00 2.00855369e+01 5.45981500e+01]\n",
      " [8.10308393e+03 3.35462628e-04 1.09663316e+03 4.03428793e+02]] \n",
      "\n",
      "<ufunc 'log'>\n",
      "[[0.         0.69314718 1.09861229 1.38629436]\n",
      " [2.19722458        nan 1.94591015 1.79175947]] \n",
      "\n",
      "<ufunc 'sign'>\n",
      "[[ 1  1  1  1]\n",
      " [ 1 -1  1  1]] \n",
      "\n",
      "<ufunc 'ceil'>\n",
      "[[ 1.  2.  3.  4.]\n",
      " [ 9. -8.  7.  6.]] \n",
      "\n",
      "<ufunc 'modf'>\n",
      "(array([[ 0.,  0.,  0.,  0.],\n",
      "       [ 0., -0.,  0.,  0.]]), array([[ 1.,  2.,  3.,  4.],\n",
      "       [ 9., -8.,  7.,  6.]])) \n",
      "\n",
      "<ufunc 'isnan'>\n",
      "[[False False False False]\n",
      " [False False False False]] \n",
      "\n",
      "<ufunc 'cos'>\n",
      "[[ 0.54030231 -0.41614684 -0.9899925  -0.65364362]\n",
      " [-0.91113026 -0.14550003  0.75390225  0.96017029]] \n",
      "\n"
     ]
    },
    {
     "name": "stderr",
     "output_type": "stream",
     "text": [
      "<ipython-input-353-933e75773baa>:4: RuntimeWarning: invalid value encountered in sqrt\n",
      "  print(func(a), \"\\n\")\n",
      "<ipython-input-353-933e75773baa>:4: RuntimeWarning: invalid value encountered in log\n",
      "  print(func(a), \"\\n\")\n"
     ]
    }
   ],
   "source": [
    "# Other ufuncs\n",
    "for func in (np.abs, np.sqrt, np.exp, np.log, np.sign, np.ceil, np.modf, np.isnan, np.cos):\n",
    "    print(func)\n",
    "    print(func(a), \"\\n\")\n",
    "\n",
    "# Brother pls ignore errors in some functions becuase there are some negative values in there"
   ]
  },
  {
   "cell_type": "code",
   "execution_count": 354,
   "metadata": {},
   "outputs": [
    {
     "name": "stdout",
     "output_type": "stream",
     "text": [
      "add\n",
      "[-1 15  7 -1] \n",
      "\n",
      "greater\n",
      "[ True False False False] \n",
      "\n",
      "maximum\n",
      "[1 8 4 5] \n",
      "\n",
      "copysign\n",
      "[-1.  7.  3.  6.] \n",
      "\n"
     ]
    }
   ],
   "source": [
    "# Binary ufuncs take two arrays and apply ufuncs on them and return a new array. Broadcasting rules are applied if the two arrays are not of the same shape\n",
    "\n",
    "a = np.array([1, 7, 3, -6])\n",
    "b = np.array([-2, 8, 4, 5])\n",
    "\n",
    "for func in (np.add, np.greater, np.maximum, np.copysign):\n",
    "    print(func.__name__)\n",
    "    print(func(a, b), \"\\n\")"
   ]
  },
  {
   "cell_type": "code",
   "execution_count": 355,
   "metadata": {},
   "outputs": [
    {
     "name": "stdout",
     "output_type": "stream",
     "text": [
      "[ 1  7  3 -6]\n",
      "[ 1  7 -1 -1]\n"
     ]
    }
   ],
   "source": [
    "# Slicing and assigning\n",
    "print(a)\n",
    "a[2:4] = -1 # Because of broadcasting rules, -1 will be assigned to the entire slice contrary to normie python lists\n",
    "print(a)"
   ]
  },
  {
   "cell_type": "code",
   "execution_count": 356,
   "metadata": {},
   "outputs": [
    {
     "name": "stdout",
     "output_type": "stream",
     "text": [
      "Original Array before slicing\n",
      "[0 1 2 3 4 5 6 7 8 9]\n",
      "Sliced array after modifying\n",
      "[   5 5000    7    8    9]\n",
      "[   0    1    2    3    4    5 5000    7    8    9]\n",
      "Modifying parent array\n",
      "[   0    1    2    3    4    5 6000    7    8    9]\n",
      "[   5 6000    7    8    9]\n"
     ]
    }
   ],
   "source": [
    "# SLICES ARE ACTUALLY VIEWS OF THE SAME DATA BUFFER\n",
    "# I.E., IF YOU CREATE A NEW ARRAY FROM A SLICE AND MODIFY THE NEW ARRAY, YOU WILL CHANGE THE CONTENTS OF THE ORIGINAL ARRAY AS WELL\n",
    "a = np.arange(10)\n",
    "print(\"Original Array before slicing\")\n",
    "print(a)\n",
    "a_sliced = a[5:]\n",
    "a_sliced[1] = 5000\n",
    "print(\"Sliced array after modifying\")\n",
    "print(a_sliced)\n",
    "print(a)\n",
    "print(\"Modifying parent array\")\n",
    "a[6] = 6000\n",
    "print(a)\n",
    "print(a_sliced)"
   ]
  },
  {
   "cell_type": "code",
   "execution_count": 357,
   "metadata": {},
   "outputs": [
    {
     "name": "stdout",
     "output_type": "stream",
     "text": [
      "Original Array before slicing\n",
      "[0 1 2 3 4 5 6 7 8 9]\n",
      "Sliced array after modifying\n",
      "[5 6 7 8 9]\n",
      "[0 1 2 3 4 5 6 7 8 9]\n",
      "Modifying parent array\n",
      "[   0    1    2    3    4    5 6000    7    8    9]\n",
      "[5 6 7 8 9]\n"
     ]
    }
   ],
   "source": [
    "# If you don't want them to change values unintentionally, be a good boi and use the copy function when dooping them arrays\n",
    "# ex\n",
    "a = np.arange(10)\n",
    "a_sliced = a[5:].copy()\n",
    "print(\"Original Array before slicing\")\n",
    "print(a)\n",
    "print(\"Sliced array after modifying\")\n",
    "print(a_sliced)\n",
    "print(a)\n",
    "print(\"Modifying parent array\")\n",
    "a[6] = 6000\n",
    "print(a)\n",
    "print(a_sliced)"
   ]
  },
  {
   "cell_type": "code",
   "execution_count": 358,
   "metadata": {},
   "outputs": [
    {
     "name": "stdout",
     "output_type": "stream",
     "text": [
      "[[ 0  1  2  3  4]\n",
      " [ 5  6  7  8  9]\n",
      " [10 11 12 13 14]\n",
      " [15 16 17 18 19]\n",
      " [20 21 22 23 24]]\n",
      "7\n",
      "[ 2  7 12 17 22]\n",
      "[10 11 12 13 14]\n"
     ]
    }
   ],
   "source": [
    "# Playin' with multidimensional arrays\n",
    "a = np.arange(25).reshape(5,-1)\n",
    "print(a)\n",
    "print(a[1,2]) # 2nd row 3rd column\n",
    "print(a[:,2]) # All rows 3rd column\n",
    "print(a[2,:]) # 2nd row all columns"
   ]
  },
  {
   "cell_type": "code",
   "execution_count": 359,
   "metadata": {},
   "outputs": [
    {
     "name": "stdout",
     "output_type": "stream",
     "text": [
      "[[ 5  6  7  8  9]\n",
      " [15 16 17 18 19]]\n",
      "\n",
      " [[ 0  1  2  3  4  5  6  7  8  9]\n",
      " [10 11 12 13 14 15 16 17 18 19]\n",
      " [20 21 22 23 24 25 26 27 28 29]\n",
      " [30 31 32 33 34 35 36 37 38 39]\n",
      " [40 41 42 43 44 45 46 47 48 49]\n",
      " [50 51 52 53 54 55 56 57 58 59]\n",
      " [60 61 62 63 64 65 66 67 68 69]] \n",
      "\n",
      "[12 31 59]\n"
     ]
    }
   ],
   "source": [
    "# Fancy Indexing\n",
    "# You provide multiple indices instead of a single index or a splice\n",
    "print(a[(1,3),:]) # 2nd and 4th row, and all columns\n",
    "# If you give lists for both rows and columns, it will return a 1 dimensional array with elements at those co ordinates.\n",
    "# It will throw an error if both lists are not of the same length\n",
    "a = np.arange(70).reshape(7,-1)\n",
    "print(\"\\n\", a, \"\\n\")\n",
    "print(a[(1, 3, 5), (2, 1, -1)]) # -> will return a[1,2], a[3, 1], a[5, -1] in a 1dimensional array"
   ]
  },
  {
   "cell_type": "code",
   "execution_count": 360,
   "metadata": {},
   "outputs": [
    {
     "data": {
      "text/plain": [
       "(array([[[ 0,  1,  2,  3,  4],\n",
       "         [ 5,  6,  7,  8,  9]],\n",
       " \n",
       "        [[10, 11, 12, 13, 14],\n",
       "         [15, 16, 17, 18, 19]],\n",
       " \n",
       "        [[20, 21, 22, 23, 24],\n",
       "         [25, 26, 27, 28, 29]],\n",
       " \n",
       "        [[30, 31, 32, 33, 34],\n",
       "         [35, 36, 37, 38, 39]],\n",
       " \n",
       "        [[40, 41, 42, 43, 44],\n",
       "         [45, 46, 47, 48, 49]]]),\n",
       " array([15, 16, 17, 18, 19]))"
      ]
     },
     "execution_count": 360,
     "metadata": {},
     "output_type": "execute_result"
    }
   ],
   "source": [
    "# MOAR DIMENSHIONS\n",
    "a = np.arange(50).reshape(5, 2, -1)\n",
    "a, a[1,1,:] # 2nd Matrix, 2nd Row, All Columns"
   ]
  },
  {
   "cell_type": "code",
   "execution_count": 361,
   "metadata": {},
   "outputs": [
    {
     "name": "stdout",
     "output_type": "stream",
     "text": [
      "-> [[[ 0  1  2  3  4]\n",
      "  [ 5  6  7  8  9]\n",
      "  [10 11 12 13 14]\n",
      "  [15 16 17 18 19]]\n",
      "\n",
      " [[20 21 22 23 24]\n",
      "  [25 26 27 28 29]\n",
      "  [30 31 32 33 34]\n",
      "  [35 36 37 38 39]]\n",
      "\n",
      " [[40 41 42 43 44]\n",
      "  [45 46 47 48 49]\n",
      "  [50 51 52 53 54]\n",
      "  [55 56 57 58 59]]\n",
      "\n",
      " [[60 61 62 63 64]\n",
      "  [65 66 67 68 69]\n",
      "  [70 71 72 73 74]\n",
      "  [75 76 77 78 79]]\n",
      "\n",
      " [[80 81 82 83 84]\n",
      "  [85 86 87 88 89]\n",
      "  [90 91 92 93 94]\n",
      "  [95 96 97 98 99]]] \n",
      "\n",
      "-> [[40 41 42 43 44]\n",
      " [45 46 47 48 49]\n",
      " [50 51 52 53 54]\n",
      " [55 56 57 58 59]] \n",
      "\n",
      "-> [70 71 72 73 74] \n",
      "\n"
     ]
    }
   ],
   "source": [
    "# Ellipsis : -> ... <- (3 dots)\n",
    "# It is similar to ':' except it works for rows, columns and everything at the same time\n",
    "a = np.arange(100).reshape(5, 4, -1)\n",
    "print(\"->\", a, \"\\n\")\n",
    "print(\"->\", a[2, ...], \"\\n\") # It means 3rd matrix, all rows and columns, it is equivalent to a[2, :, :]\n",
    "print(\"->\", a[3, 2, ...], \"\\n\") # It means 4th matrix, 3rd row and all columns. It is equivalent to a[3, 2, :]\n"
   ]
  },
  {
   "cell_type": "code",
   "execution_count": 362,
   "metadata": {},
   "outputs": [
    {
     "name": "stdout",
     "output_type": "stream",
     "text": [
      "[[ 0  1  2  3  4  5  6  7  8  9]\n",
      " [20 21 22 23 24 25 26 27 28 29]\n",
      " [40 41 42 43 44 45 46 47 48 49]]\n",
      "[[ 0  2  4  6  8]\n",
      " [10 12 14 16 18]\n",
      " [20 22 24 26 28]\n",
      " [30 32 34 36 38]\n",
      " [40 42 44 46 48]]\n"
     ]
    }
   ],
   "source": [
    "# Boolean Indexing\n",
    "# You use bools to index through an array cuz that's what cool kidz do\n",
    "a = np.arange(50).reshape(5, 10)\n",
    "row_bool_indices = np.array([True, False, True, False, True])\n",
    "print(a[row_bool_indices, :]) # Similar to a[(0,2,4),:]\n",
    "col_bool_indices = np.array([True, False]*5) # Matrix multiplication to repeat the true false pattern 5 times\n",
    "print(a[:, col_bool_indices])"
   ]
  },
  {
   "cell_type": "code",
   "execution_count": 363,
   "metadata": {},
   "outputs": [
    {
     "data": {
      "text/plain": [
       "array([[ 0,  2,  4,  6,  8],\n",
       "       [20, 22, 24, 26, 28],\n",
       "       [40, 42, 44, 46, 48]])"
      ]
     },
     "execution_count": 363,
     "metadata": {},
     "output_type": "execute_result"
    }
   ],
   "source": [
    "# np.ix_\n",
    "# The boolean indexing seen above will not work when used on both rows and columns at once\n",
    "# You gotta use np.ix_ for that\n",
    "a[np.ix_(row_bool_indices, col_bool_indices)]\n",
    "# Similar to list indices, if two equal sized bool indices are passed, you get a one dimensional array with the elements at those coordinates"
   ]
  },
  {
   "cell_type": "code",
   "execution_count": 364,
   "metadata": {},
   "outputs": [
    {
     "data": {
      "text/plain": [
       "array([ 0,  2,  4,  6,  8, 10, 12, 14, 16, 18, 20, 22, 24, 26, 28, 30, 32,\n",
       "       34, 36, 38, 40, 42, 44, 46, 48])"
      ]
     },
     "execution_count": 364,
     "metadata": {},
     "output_type": "execute_result"
    }
   ],
   "source": [
    "a[ a % 2 == 0 ] # ez way to get all even numbers in the array. some real gangsta sith"
   ]
  },
  {
   "cell_type": "code",
   "execution_count": 365,
   "metadata": {},
   "outputs": [
    {
     "name": "stdout",
     "output_type": "stream",
     "text": [
      "\n",
      " printing i \n",
      "\n",
      "[[ 0  1  2  3]\n",
      " [ 4  5  6  7]\n",
      " [ 8  9 10 11]\n",
      " [12 13 14 15]]\n",
      "\n",
      " printing i \n",
      "\n",
      "[[16 17 18 19]\n",
      " [20 21 22 23]\n",
      " [24 25 26 27]\n",
      " [28 29 30 31]]\n",
      "\n",
      " printing i \n",
      "\n",
      "[[32 33 34 35]\n",
      " [36 37 38 39]\n",
      " [40 41 42 43]\n",
      " [44 45 46 47]]\n",
      "\n",
      "Method 2\n",
      "\n",
      "\n",
      " printing i \n",
      "\n",
      "[[ 0  1  2  3]\n",
      " [ 4  5  6  7]\n",
      " [ 8  9 10 11]\n",
      " [12 13 14 15]]\n",
      "\n",
      " printing i \n",
      "\n",
      "[[16 17 18 19]\n",
      " [20 21 22 23]\n",
      " [24 25 26 27]\n",
      " [28 29 30 31]]\n",
      "\n",
      " printing i \n",
      "\n",
      "[[32 33 34 35]\n",
      " [36 37 38 39]\n",
      " [40 41 42 43]\n",
      " [44 45 46 47]]\n"
     ]
    }
   ],
   "source": [
    "# Iterating over the matrix\n",
    "a = np.arange(48).reshape(3, 4, -1)\n",
    "\n",
    "for i in a:\n",
    "    print(\"\\n printing i \\n\")\n",
    "    print(i)\n",
    "    \n",
    "print(\"\\nMethod 2\\n\")\n",
    "    \n",
    "for i in range(len(a)):\n",
    "    print(\"\\n printing i \\n\")\n",
    "    print(a[i])"
   ]
  },
  {
   "cell_type": "code",
   "execution_count": 366,
   "metadata": {},
   "outputs": [
    {
     "name": "stdout",
     "output_type": "stream",
     "text": [
      "Value: 0\n",
      "Value: 1\n",
      "Value: 2\n",
      "Value: 3\n",
      "Value: 4\n",
      "Value: 5\n",
      "Value: 6\n",
      "Value: 7\n",
      "Value: 8\n",
      "Value: 9\n",
      "Value: 10\n",
      "Value: 11\n",
      "Value: 12\n",
      "Value: 13\n",
      "Value: 14\n",
      "Value: 15\n",
      "Value: 16\n",
      "Value: 17\n",
      "Value: 18\n",
      "Value: 19\n",
      "Value: 20\n",
      "Value: 21\n",
      "Value: 22\n",
      "Value: 23\n",
      "Value: 24\n",
      "Value: 25\n",
      "Value: 26\n",
      "Value: 27\n",
      "Value: 28\n",
      "Value: 29\n",
      "Value: 30\n",
      "Value: 31\n",
      "Value: 32\n",
      "Value: 33\n",
      "Value: 34\n",
      "Value: 35\n",
      "Value: 36\n",
      "Value: 37\n",
      "Value: 38\n",
      "Value: 39\n",
      "Value: 40\n",
      "Value: 41\n",
      "Value: 42\n",
      "Value: 43\n",
      "Value: 44\n",
      "Value: 45\n",
      "Value: 46\n",
      "Value: 47\n"
     ]
    }
   ],
   "source": [
    "# If you want to iterate over all the values of the array irrespective of the dimension, you've to use .flat attribute\n",
    "\n",
    "for i in a.flat:\n",
    "    print(\"Value:\", i)"
   ]
  },
  {
   "cell_type": "code",
   "execution_count": 367,
   "metadata": {},
   "outputs": [],
   "source": [
    "# Stacking arrays\n",
    "# Creating 3 dummy arrays first\n",
    "d1 = np.arange(20,40).reshape(4,5)\n",
    "d2 = np.arange(80, 100).reshape(5,4)\n",
    "d3 = np.arange(20).reshape(4,5)"
   ]
  },
  {
   "cell_type": "code",
   "execution_count": 368,
   "metadata": {},
   "outputs": [
    {
     "data": {
      "text/plain": [
       "array([[20, 21, 22, 23, 24],\n",
       "       [25, 26, 27, 28, 29],\n",
       "       [30, 31, 32, 33, 34],\n",
       "       [35, 36, 37, 38, 39],\n",
       "       [ 0,  1,  2,  3,  4],\n",
       "       [ 5,  6,  7,  8,  9],\n",
       "       [10, 11, 12, 13, 14],\n",
       "       [15, 16, 17, 18, 19]])"
      ]
     },
     "execution_count": 368,
     "metadata": {},
     "output_type": "execute_result"
    }
   ],
   "source": [
    "v_stacked = np.vstack((d1, d3)) # Only d1 and d3 can be stacked vertically because, since it's vertical the number of columns should be the same\n",
    "v_stacked"
   ]
  },
  {
   "cell_type": "code",
   "execution_count": 369,
   "metadata": {},
   "outputs": [
    {
     "data": {
      "text/plain": [
       "array([[20, 21, 22, 23, 24,  0,  1,  2,  3,  4],\n",
       "       [25, 26, 27, 28, 29,  5,  6,  7,  8,  9],\n",
       "       [30, 31, 32, 33, 34, 10, 11, 12, 13, 14],\n",
       "       [35, 36, 37, 38, 39, 15, 16, 17, 18, 19]])"
      ]
     },
     "execution_count": 369,
     "metadata": {},
     "output_type": "execute_result"
    }
   ],
   "source": [
    "h_stacked = np.hstack((d1, d3)) # Only d1 and d3 can be stacked horizontally because, since it's horizontal the number of rows should be the same\n",
    "h_stacked"
   ]
  },
  {
   "cell_type": "code",
   "execution_count": 370,
   "metadata": {},
   "outputs": [
    {
     "data": {
      "text/plain": [
       "array([[20, 21, 22, 23, 24],\n",
       "       [25, 26, 27, 28, 29],\n",
       "       [30, 31, 32, 33, 34],\n",
       "       [35, 36, 37, 38, 39],\n",
       "       [ 0,  1,  2,  3,  4],\n",
       "       [ 5,  6,  7,  8,  9],\n",
       "       [10, 11, 12, 13, 14],\n",
       "       [15, 16, 17, 18, 19]])"
      ]
     },
     "execution_count": 370,
     "metadata": {},
     "output_type": "execute_result"
    }
   ],
   "source": [
    "concd = np.concatenate((d1, d3), axis = 0) # This is equivalent to vstack\n",
    "concd"
   ]
  },
  {
   "cell_type": "code",
   "execution_count": 371,
   "metadata": {},
   "outputs": [
    {
     "data": {
      "text/plain": [
       "array([[20, 21, 22, 23, 24,  0,  1,  2,  3,  4],\n",
       "       [25, 26, 27, 28, 29,  5,  6,  7,  8,  9],\n",
       "       [30, 31, 32, 33, 34, 10, 11, 12, 13, 14],\n",
       "       [35, 36, 37, 38, 39, 15, 16, 17, 18, 19]])"
      ]
     },
     "execution_count": 371,
     "metadata": {},
     "output_type": "execute_result"
    }
   ],
   "source": [
    "concd = np.concatenate((d1, d3), axis = 1) # This is equivalent to hstack\n",
    "concd"
   ]
  },
  {
   "cell_type": "code",
   "execution_count": 372,
   "metadata": {},
   "outputs": [
    {
     "data": {
      "text/plain": [
       "(array([[[20, 21, 22, 23, 24],\n",
       "         [25, 26, 27, 28, 29],\n",
       "         [30, 31, 32, 33, 34],\n",
       "         [35, 36, 37, 38, 39]],\n",
       " \n",
       "        [[ 0,  1,  2,  3,  4],\n",
       "         [ 5,  6,  7,  8,  9],\n",
       "         [10, 11, 12, 13, 14],\n",
       "         [15, 16, 17, 18, 19]]]),\n",
       " (2, 4, 5))"
      ]
     },
     "execution_count": 372,
     "metadata": {},
     "output_type": "execute_result"
    }
   ],
   "source": [
    "# np.stack stacks arrays into a new dimension. they need to have the same shape\n",
    "new_stacked = np.stack((d1, d3))\n",
    "new_stacked, new_stacked.shape"
   ]
  },
  {
   "cell_type": "code",
   "execution_count": 373,
   "metadata": {},
   "outputs": [
    {
     "data": {
      "text/plain": [
       "array([[ 0,  1,  2,  3,  4,  5,  6,  7,  8,  9],\n",
       "       [10, 11, 12, 13, 14, 15, 16, 17, 18, 19],\n",
       "       [20, 21, 22, 23, 24, 25, 26, 27, 28, 29]])"
      ]
     },
     "execution_count": 373,
     "metadata": {},
     "output_type": "execute_result"
    }
   ],
   "source": [
    "# Splitting is the opposite of stacking\n",
    "a = np.arange(30).reshape(3,-1)\n",
    "a"
   ]
  },
  {
   "cell_type": "code",
   "execution_count": 374,
   "metadata": {},
   "outputs": [
    {
     "data": {
      "text/plain": [
       "[array([[0, 1, 2, 3, 4, 5, 6, 7, 8, 9]]),\n",
       " array([[10, 11, 12, 13, 14, 15, 16, 17, 18, 19]]),\n",
       " array([[20, 21, 22, 23, 24, 25, 26, 27, 28, 29]])]"
      ]
     },
     "execution_count": 374,
     "metadata": {},
     "output_type": "execute_result"
    }
   ],
   "source": [
    "# Using split with a number 'n' will return 'n' number of equal sized matrices\n",
    "np.split(a, 3)"
   ]
  },
  {
   "cell_type": "code",
   "execution_count": 375,
   "metadata": {},
   "outputs": [],
   "source": [
    "# We also got hsplit which is equivalent to calling split with axis 1 and vsplit which is equivalent to calling split with axis 0."
   ]
  },
  {
   "cell_type": "code",
   "execution_count": 376,
   "metadata": {},
   "outputs": [
    {
     "name": "stdout",
     "output_type": "stream",
     "text": [
      "[[[ 0  1]\n",
      "  [ 2  3]\n",
      "  [ 4  5]\n",
      "  [ 6  7]\n",
      "  [ 8  9]]\n",
      "\n",
      " [[10 11]\n",
      "  [12 13]\n",
      "  [14 15]\n",
      "  [16 17]\n",
      "  [18 19]]\n",
      "\n",
      " [[20 21]\n",
      "  [22 23]\n",
      "  [24 25]\n",
      "  [26 27]\n",
      "  [28 29]]] \n",
      "\n",
      "[[[ 0 10 20]\n",
      "  [ 1 11 21]]\n",
      "\n",
      " [[ 2 12 22]\n",
      "  [ 3 13 23]]\n",
      "\n",
      " [[ 4 14 24]\n",
      "  [ 5 15 25]]\n",
      "\n",
      " [[ 6 16 26]\n",
      "  [ 7 17 27]]\n",
      "\n",
      " [[ 8 18 28]\n",
      "  [ 9 19 29]]] \n",
      "\n",
      "[[[ 0  2  4  6  8]\n",
      "  [ 1  3  5  7  9]]\n",
      "\n",
      " [[10 12 14 16 18]\n",
      "  [11 13 15 17 19]]\n",
      "\n",
      " [[20 22 24 26 28]\n",
      "  [21 23 25 27 29]]] \n",
      "\n",
      "[[[ 0  2  4  6  8]\n",
      "  [ 1  3  5  7  9]]\n",
      "\n",
      " [[10 12 14 16 18]\n",
      "  [11 13 15 17 19]]\n",
      "\n",
      " [[20 22 24 26 28]\n",
      "  [21 23 25 27 29]]] \n",
      "\n"
     ]
    }
   ],
   "source": [
    "# Transpose of matrices\n",
    "# when you do reshape of a matrix with three parameters it's of the form reshape(depth, height, width). Let's denote these as (0, 1, 2)\n",
    "# You can use transpose to reorder them. \n",
    "# ex np.transpose(1,2,0) makes the matrix have depth = prev height, height = prev width, width = prev depth\n",
    "a = np.arange(30).reshape(3, 5, 2)\n",
    "print(a, \"\\n\")\n",
    "a_t1 = a.transpose(1, 2, 0)\n",
    "print(a_t1, \"\\n\")\n",
    "a_t2 = a.transpose(0, 2, 1)\n",
    "print(a_t2, \"\\n\")\n",
    "# By default transpose converts (0, 1, 2) to (2, 1, 0)\n",
    "a_td = a.transpose()\n",
    "# There's also swap axes which will swap the two axes provided\n",
    "a_s1 = a.swapaxes(2,1) # converts (0, 1, 2) to (0, 2, 1)\n",
    "print(a_s1, \"\\n\")"
   ]
  },
  {
   "cell_type": "markdown",
   "metadata": {},
   "source": [
    "### Linear Algebra "
   ]
  },
  {
   "cell_type": "code",
   "execution_count": 377,
   "metadata": {},
   "outputs": [
    {
     "data": {
      "text/plain": [
       "array([[ 0,  1,  2,  3],\n",
       "       [ 4,  5,  6,  7],\n",
       "       [ 8,  9, 10, 11],\n",
       "       [12, 13, 14, 15]])"
      ]
     },
     "execution_count": 377,
     "metadata": {},
     "output_type": "execute_result"
    }
   ],
   "source": [
    "a = np.arange(16).reshape(4, 4)\n",
    "a"
   ]
  },
  {
   "cell_type": "code",
   "execution_count": 378,
   "metadata": {},
   "outputs": [
    {
     "data": {
      "text/plain": [
       "array([[ 0,  4,  8, 12],\n",
       "       [ 1,  5,  9, 13],\n",
       "       [ 2,  6, 10, 14],\n",
       "       [ 3,  7, 11, 15]])"
      ]
     },
     "execution_count": 378,
     "metadata": {},
     "output_type": "execute_result"
    }
   ],
   "source": [
    "# for transposing a matrix, you just gotta do ''.T' only when the rank is >= 2\n",
    "a.T"
   ]
  },
  {
   "cell_type": "code",
   "execution_count": 379,
   "metadata": {},
   "outputs": [
    {
     "data": {
      "text/plain": [
       "array([[ 240,  250,  260],\n",
       "       [ 765,  800,  835],\n",
       "       [1290, 1350, 1410]])"
      ]
     },
     "execution_count": 379,
     "metadata": {},
     "output_type": "execute_result"
    }
   ],
   "source": [
    "# For the matrix multiplication, the n(columns) of the first matrix must be equal to n(rows) of the second matrix\n",
    "# The normal * multiplication is not matrix multiplication. It's Hadamard Multiplication\n",
    "a = np.arange(15).reshape(3, 5)\n",
    "b = np.arange(15,30).reshape(5, 3)\n",
    "# Size matches\n",
    "# To multiply them, use .dot() method\n",
    "a.dot(b)"
   ]
  },
  {
   "cell_type": "code",
   "execution_count": 380,
   "metadata": {},
   "outputs": [],
   "source": [
    "import numpy.linalg as linalg"
   ]
  },
  {
   "cell_type": "code",
   "execution_count": 381,
   "metadata": {},
   "outputs": [],
   "source": [
    "m = np.arange(0, 36, 4).reshape(3,3)\n",
    "m[2][2] = 10 # Because matrix would be singluar without this. Singular Matrices have no inverse you dumdum"
   ]
  },
  {
   "cell_type": "code",
   "execution_count": 382,
   "metadata": {},
   "outputs": [
    {
     "data": {
      "text/plain": [
       "1056.0"
      ]
     },
     "execution_count": 382,
     "metadata": {},
     "output_type": "execute_result"
    }
   ],
   "source": [
    "linalg.det(m)"
   ]
  },
  {
   "cell_type": "code",
   "execution_count": 383,
   "metadata": {},
   "outputs": [
    {
     "data": {
      "text/plain": [
       "array([[ 0,  4,  8],\n",
       "       [12, 16, 20],\n",
       "       [24, 28, 10]])"
      ]
     },
     "execution_count": 383,
     "metadata": {},
     "output_type": "execute_result"
    }
   ],
   "source": [
    "m"
   ]
  },
  {
   "cell_type": "code",
   "execution_count": 384,
   "metadata": {},
   "outputs": [
    {
     "data": {
      "text/plain": [
       "array([[-0.37878788,  0.17424242, -0.04545455],\n",
       "       [ 0.34090909, -0.18181818,  0.09090909],\n",
       "       [-0.04545455,  0.09090909, -0.04545455]])"
      ]
     },
     "execution_count": 384,
     "metadata": {},
     "output_type": "execute_result"
    }
   ],
   "source": [
    "# You can compute the inverse of the matrix using the linalg.inv() function\n",
    "linalg.inv(m)"
   ]
  },
  {
   "cell_type": "code",
   "execution_count": 385,
   "metadata": {},
   "outputs": [
    {
     "data": {
      "text/plain": [
       "array([[-0.37878788,  0.17424242, -0.04545455],\n",
       "       [ 0.34090909, -0.18181818,  0.09090909],\n",
       "       [-0.04545455,  0.09090909, -0.04545455]])"
      ]
     },
     "execution_count": 385,
     "metadata": {},
     "output_type": "execute_result"
    }
   ],
   "source": [
    "# You can compute the pseudo inverse(moore penrose inverse) using linalg.pinv() function \n",
    "linalg.pinv(m)"
   ]
  },
  {
   "cell_type": "code",
   "execution_count": 386,
   "metadata": {},
   "outputs": [
    {
     "data": {
      "text/plain": [
       "array([[ 1.00000000e+00,  0.00000000e+00,  0.00000000e+00],\n",
       "       [ 9.43689571e-16,  1.00000000e+00,  5.55111512e-17],\n",
       "       [ 1.80411242e-15, -2.77555756e-16,  1.00000000e+00]])"
      ]
     },
     "execution_count": 386,
     "metadata": {},
     "output_type": "execute_result"
    }
   ],
   "source": [
    "# As you already know multiplying a matrix with it's inverse gives you the identity matrix\n",
    "m.dot(linalg.inv(m))\n",
    "# There will be some small floating point errors though"
   ]
  },
  {
   "cell_type": "code",
   "execution_count": 387,
   "metadata": {},
   "outputs": [
    {
     "data": {
      "text/plain": [
       "array([[1., 0., 0., 0., 0., 0., 0., 0., 0., 0.],\n",
       "       [0., 1., 0., 0., 0., 0., 0., 0., 0., 0.],\n",
       "       [0., 0., 1., 0., 0., 0., 0., 0., 0., 0.],\n",
       "       [0., 0., 0., 1., 0., 0., 0., 0., 0., 0.],\n",
       "       [0., 0., 0., 0., 1., 0., 0., 0., 0., 0.],\n",
       "       [0., 0., 0., 0., 0., 1., 0., 0., 0., 0.],\n",
       "       [0., 0., 0., 0., 0., 0., 1., 0., 0., 0.],\n",
       "       [0., 0., 0., 0., 0., 0., 0., 1., 0., 0.],\n",
       "       [0., 0., 0., 0., 0., 0., 0., 0., 1., 0.],\n",
       "       [0., 0., 0., 0., 0., 0., 0., 0., 0., 1.]])"
      ]
     },
     "execution_count": 387,
     "metadata": {},
     "output_type": "execute_result"
    }
   ],
   "source": [
    "# You can generate an Identity matrix using the np.eye() function passing the size of the matrix as the parameter\n",
    "np.eye(10)"
   ]
  },
  {
   "cell_type": "code",
   "execution_count": 388,
   "metadata": {},
   "outputs": [
    {
     "name": "stdout",
     "output_type": "stream",
     "text": [
      "[[ 0.          0.91287093  0.40824829]\n",
      " [-0.4472136   0.36514837 -0.81649658]\n",
      " [-0.89442719 -0.18257419  0.40824829]]\n",
      "\n",
      "[[-26.83281573 -32.19937888 -17.88854382]\n",
      " [  0.           4.38178046  12.78019301]\n",
      " [  0.           0.          -8.98146239]]\n"
     ]
    }
   ],
   "source": [
    "# QR Decomposition\n",
    "# m = qr where q is a normal matrix and r is an upper triangular matrix\n",
    "# You can generate the q and r matrices using linalg.qr() function passing the matrix as a parameter\n",
    "q, r = linalg.qr(m)\n",
    "print(q)\n",
    "print()\n",
    "print(r)"
   ]
  },
  {
   "cell_type": "code",
   "execution_count": 389,
   "metadata": {},
   "outputs": [
    {
     "name": "stdout",
     "output_type": "stream",
     "text": [
      "[[ 0.  4.  8.]\n",
      " [12. 16. 20.]\n",
      " [24. 28. 10.]]\n",
      "\n",
      "[[ 0  4  8]\n",
      " [12 16 20]\n",
      " [24 28 10]]\n",
      "\n",
      "[[ True  True  True]\n",
      " [ True  True  True]\n",
      " [ True  True  True]]\n"
     ]
    }
   ],
   "source": [
    "print(q.dot(r))\n",
    "print()\n",
    "print(m)\n",
    "print()\n",
    "print(q.dot(r).astype('int32') == m) #Type conversion to prove"
   ]
  },
  {
   "cell_type": "code",
   "execution_count": 390,
   "metadata": {},
   "outputs": [
    {
     "name": "stdout",
     "output_type": "stream",
     "text": [
      "[ 41.88274994  -1.78896144 -14.0937885 ]\n",
      "\n",
      "[[-0.20160237 -0.7068581  -0.35778133]\n",
      " [-0.65570176  0.68313889 -0.41370297]\n",
      " [-0.72760682 -0.18350171  0.83716329]]\n"
     ]
    }
   ],
   "source": [
    "# Eigen Values\n",
    "# the basic concept is \n",
    "# m * eigen-vector = eigen-values * eigen-vector\n",
    "# Can be computed using linalg.eig() function\n",
    "eigenvalues, eigenvector = linalg.eig(m)\n",
    "print(eigenvalues)\n",
    "print()\n",
    "print(eigenvector)"
   ]
  },
  {
   "cell_type": "code",
   "execution_count": 391,
   "metadata": {},
   "outputs": [
    {
     "data": {
      "text/plain": [
       "array([[ 8.88178420e-15,  8.88178420e-16,  3.55271368e-15],\n",
       "       [ 1.42108547e-14,  9.54791801e-15, -3.55271368e-15],\n",
       "       [-3.55271368e-15,  1.59317004e-14, -5.32907052e-15]])"
      ]
     },
     "execution_count": 391,
     "metadata": {},
     "output_type": "execute_result"
    }
   ],
   "source": [
    "# Proof\n",
    "m.dot(eigenvector) - eigenvalues * eigenvector\n",
    "# Close, there will be some floating point error"
   ]
  },
  {
   "cell_type": "code",
   "execution_count": 392,
   "metadata": {},
   "outputs": [],
   "source": [
    "# read more on singular value decomposition. can be done using numpy linalg"
   ]
  },
  {
   "cell_type": "code",
   "execution_count": 393,
   "metadata": {},
   "outputs": [
    {
     "name": "stdout",
     "output_type": "stream",
     "text": [
      "[ 0 16 10]\n",
      "26\n",
      "True\n"
     ]
    }
   ],
   "source": [
    "# Diagonal and trace of a matrix\n",
    "print(np.diag(m))\n",
    "print(np.trace(m))\n",
    "print(np.trace(m) == np.diag(m).sum()) "
   ]
  },
  {
   "cell_type": "code",
   "execution_count": 394,
   "metadata": {},
   "outputs": [
    {
     "data": {
      "text/plain": [
       "array([ 37., -25.])"
      ]
     },
     "execution_count": 394,
     "metadata": {},
     "output_type": "execute_result"
    }
   ],
   "source": [
    "# We can solve linear equations using matrices as well\n",
    "# The coeffcients matrix when multiplied with the solution matrix should result in the dependant variable matrix\n",
    "# for ex let the two linear equations be\n",
    "# 2x + 3y = -1\n",
    "# 5x + 7y = 10\n",
    "# Then the coefficient matrix is,\n",
    "# [ [ 2 3 ], [ 5 7 ] ] \n",
    "# The dependant variable matrix is [-1 10]\n",
    "# The solution matrix can be obtained using lingalg.solve() and passing coeffs matrix and depvars matrix as arguments\n",
    "coeffs = np.array([[2, 3], [5, 7]])\n",
    "depvars = np.array([-1, 10])\n",
    "sols = linalg.solve(coeffs, depvars)\n",
    "sols"
   ]
  },
  {
   "cell_type": "code",
   "execution_count": 395,
   "metadata": {},
   "outputs": [
    {
     "data": {
      "text/plain": [
       "array([ True,  True])"
      ]
     },
     "execution_count": 395,
     "metadata": {},
     "output_type": "execute_result"
    }
   ],
   "source": [
    "# Proof\n",
    "coeffs.dot(sols).astype('int32') == depvars"
   ]
  },
  {
   "cell_type": "code",
   "execution_count": 396,
   "metadata": {},
   "outputs": [],
   "source": [
    "# Vectorization\n",
    "# Instead of performing operations one at-a-time, it's better to stick to array modifications. \n",
    "# Because numpy has many optimizations in the back-end\n",
    "# For example, let's say we want to generate a 768x1024 array based on the formula sin(xy/40.5).\n",
    "# A bad option would be to do the math in python using nested loops:\n",
    "import math\n",
    "data = np.empty((768, 1024))\n",
    "for y in range(768):\n",
    "    for x in range(1024):\n",
    "        data[y, x] = math.sin(x*y/40.5)  # BAD! Very inefficient."
   ]
  },
  {
   "cell_type": "code",
   "execution_count": 397,
   "metadata": {},
   "outputs": [
    {
     "data": {
      "text/plain": [
       "(array([[   0,    1,    2, ..., 1021, 1022, 1023],\n",
       "        [   0,    1,    2, ..., 1021, 1022, 1023],\n",
       "        [   0,    1,    2, ..., 1021, 1022, 1023],\n",
       "        ...,\n",
       "        [   0,    1,    2, ..., 1021, 1022, 1023],\n",
       "        [   0,    1,    2, ..., 1021, 1022, 1023],\n",
       "        [   0,    1,    2, ..., 1021, 1022, 1023]]),\n",
       " (768, 1024))"
      ]
     },
     "execution_count": 397,
     "metadata": {},
     "output_type": "execute_result"
    }
   ],
   "source": [
    "# But we can use numpy's meshgrid function to create coordinate matrices\n",
    "x_coords = np.arange(0, 1024)  # [0, 1, 2, ..., 1023]\n",
    "y_coords = np.arange(0, 768)   # [0, 1, 2, ..., 767]\n",
    "X, Y = np.meshgrid(x_coords, y_coords)\n",
    "X, X.shape"
   ]
  },
  {
   "cell_type": "code",
   "execution_count": 398,
   "metadata": {},
   "outputs": [
    {
     "data": {
      "text/plain": [
       "(array([[  0,   0,   0, ...,   0,   0,   0],\n",
       "        [  1,   1,   1, ...,   1,   1,   1],\n",
       "        [  2,   2,   2, ...,   2,   2,   2],\n",
       "        ...,\n",
       "        [765, 765, 765, ..., 765, 765, 765],\n",
       "        [766, 766, 766, ..., 766, 766, 766],\n",
       "        [767, 767, 767, ..., 767, 767, 767]]),\n",
       " (768, 1024))"
      ]
     },
     "execution_count": 398,
     "metadata": {},
     "output_type": "execute_result"
    }
   ],
   "source": [
    "Y, Y.shape"
   ]
  },
  {
   "cell_type": "code",
   "execution_count": 399,
   "metadata": {},
   "outputs": [],
   "source": [
    "data = np.sin(X*Y/25)"
   ]
  },
  {
   "cell_type": "code",
   "execution_count": 400,
   "metadata": {},
   "outputs": [
    {
     "data": {
      "image/png": "[encoded data removed]",
      "text/plain": [
       "<Figure size 504x432 with 1 Axes>"
      ]
     },
     "metadata": {
      "needs_background": "light"
     },
     "output_type": "display_data"
    }
   ],
   "source": [
    "import matplotlib.pyplot as plt\n",
    "import matplotlib.cm as cm\n",
    "fig = plt.figure(1, figsize=(7, 6))\n",
    "plt.imshow(data, cmap=cm.hot, interpolation=\"bicubic\")\n",
    "plt.show()"
   ]
  },
  {
   "cell_type": "code",
   "execution_count": 401,
   "metadata": {},
   "outputs": [],
   "source": [
    "# Saving and Loading numpy arrays\n",
    "# Creating an np array\n",
    "rand_array = np.random.rand(10,10)"
   ]
  },
  {
   "cell_type": "code",
   "execution_count": 402,
   "metadata": {},
   "outputs": [],
   "source": [
    "np.save(\"rand_array_10_10\", rand_array)\n",
    "# Since no format has been specified, it is stored in .npy format"
   ]
  },
  {
   "cell_type": "code",
   "execution_count": 403,
   "metadata": {},
   "outputs": [
    {
     "data": {
      "text/plain": [
       "b'\\x93NUMPY\\x01\\x00v\\x00{\\'descr\\': \\'<f8\\', \\'fortran_order\\': False, \\'shape\\': (10, 10), }                                                        \\n\\x9aQ\\x15\\xa5\\xa5\\xf8\\xe7?\\x04\\xad\\xc9\\xcf\\xa6$\\xd8?\\xb8\\xa5qgn\\xec\\xd1?\\xc7\\x05a\\xa4&]\\xe2?\\xff\\xf8\"2D\\xf9\\xe1?\\xd0\\x9f\\x87\\xff\\xc4\\xb1\\xdc?\\xa8\\x12\\x1c\\xa6\\xcb\\xe4\\xec?\\x06\\x14\\x80\\x8aE\\x00\\xdb?\\xa47\\x0e,M\\xe6\\xec?\\xb2R\\xf1\\x12\\xee\\xc4\\xeb?\\xdd\\xc2\\xad\\xdfvl\\xe1?\\xcc\\x06\\x88H\\xec\\xa6\\xe1?sQ\\x91\\xef\\xb1)\\xe2?4\\x9d\\xd4\\xe5\\xeb)\\xd8?\\xc6\\x8cs\\xb2\\x0b\\xe8\\xd4?]\\x11\\x16\\x17\\xef9\\xee?\\xa7)\\xc67\\x0b%\\xed?\\xa4\\xd4\\xc6<\\x07\\xac\\xe3?O\\xfe\\x91\\x1c\\xa7!\\xe5?|-\\xb6\\x07,\\xb4\\xda?\\xd2\"cl\\xa9&\\xef?\\xf0\\x82\\xb6:\\x9b\\xcb\\xa5?\\x88\\x8d\\x9a_\\x13\\x9a\\xd0?4b\\xe17\\xf6\\x81\\xcc?\\xfcN\\x9b\\xb4\\xde\\xd8\\xc9?\\xc2W\\xb4\\x98\\x82+\\xdc?\\xe4\\xe4\\xa3S\\xdf\\x92\\xe0?|\\x1d\\xc0[\\x84\\x8f\\xc5?\\x88\\xf5\\x8c-\\xd3\\x17\\xd2?\\xcffJ\"\\xcd\\x8b\\xec?\\xee\\xea\\xac\\xaa\\x13i\\xdd?\\xc4\\xc8I\\xcb\\xb66\\xc4?\\t1$`\\x8c\\xb7\\xe1?\\xdf\\x9c;\\x9bh6\\xe4?\\x90*\\n\\xdf\\xc7$\\xbe?\\xc2V\\xa1\\xc1B\\x96\\xeb?\\x93]y\\x94\\x9c1\\xe0?|\\x05\\xdcT\\xc57\\xd3?\\x82\\xf9\\xf7\\xcbp\\x17\\xd1?\\xcc\\x93ND5)\\xe7?\\xfbg\\xa0\\x8fa\\x1a\\xe5?`\\xfe!\\x03t\\x07\\xe9?ps\\xabDX\\xdc\\xd6?\\xf3\\xa2Y\\x96\\x8dR\\xec?_\\xf3\\x90#\\xf5\\x03\\xe0?\\x91\\xc3\\xc5P{\\xcf\\xea?O\\x91w\\xbf\\x05\\x1b\\xe1?\\xabI\\xf5\\xcf\\x9db\\xe6?\\xee\\xa1\\\\F\\x1d\\xaf\\xd6?\\xf0-\\x11#\\xe4\\x00\\xa2?L\\xcav\\x0e_{\\xcb?\\x80j+\\xb0\\xdf\\xe8\\xa9?\\xc0\\xab\\x8d_ka\\xd8?F\\xa7\\x00\\x85h\\xfe\\xde?\\xd4\\xc9\\xae\\x88\\xa1\\xc5\\xd5?\\xbc&\\xfaT\\x87x\\xe5?\\xc0\\xe6\\xef\\xe1-\\xac\\xa8?4\\x18\\xc4n\\xee3\\xe2?p]~,I\\x8b\\xb1?[\\xd8\\xc9\\x0f\\xe0\\x16\\xee?\\xe4\\x19\\xe9\\x10\\xe46\\xc3?E\\xf6\\xbdd\\xc5\\xcb\\xec?i\\xa7\\t[\\xf1X\\xe4?\\xc4\\xd7}H\\xa5\\xc6\\xd7?,ed\\x05\\x06\\x7f\\xeb?G\\xa9\\x19L\\x8d\\x98\\xed?\\xce`\\x98\\xf6\\xc1\\xe0\\xeb?\\xa3\\xb0g\\x15\\xe8G\\xec?$\\xeb\\xe8rB0\\xee?\\x02;e\\\\Dz\\xec?\\x19\\xe5\\x82\\xeb\\xfe\\xbb\\xef?\\xb0\\x9e\\xb9Xg\\xcf\\xc6?HJ\\xcf\\r\\xe0}\\xc1?\\x1a.\\xa4\\xf6\\x163\\xde?\\xd3\\x8d\\xc6\\xa1\\x0b\\\\\\xe5?<\\xc4\\xb2\\x04!k\\xda?\\x08\\xf8\\x18\\x14\\xaej\\xc8?\\x82\\xe2\\xd1\\xe4|(\\xd0?\\xe6\\xa7X\\x9d\\xf1\\x18\\xd9?\\x12\\xab\\xb6\\xad\\x11\\xbe\\xd3?\\xe4*\\xa6\\x89\\x1c\\xe4\\xe8?p\\x88\\x85zr\\xa9\\xb1?\\x8a?\\\\\\xe4|\\xd9\\xe8?\\xa0k\\x9f\"58\\xe5?\\x1e&\\xbd\"R\\xe8\\xe2?\\xa2\\x1a\\xff\\x14\\xddl\\xeb?\\x90\\x8a\\xb6a\\xea\\x86\\xd9?n\\n@\\xe4S\\xab\\xea?n/+\\xfa\\x11<\\xd5?\\xea.\\xdd\\xf2\\xe6\\xf9\\xee?\\x94\\xd0\\xba:\\xf5<\\xc4?\\xbb\\xc6\\xf6\\xb1X2\\xe9?\\xf9\\xd4\\xaeih\\xaa\\xed?Da[Z\\xe2\\x8b\\xed?nN\\xf2\\xbd\\x97\\x99\\xde?M\\xe5\\xa6U4\\xac\\xe2?HM\\xd9@\\xf3\\x11\\xec?\\x1c}|\\xf9b\\x92\\xd5?]\\xad1M\\xff+\\xef?\\xb8R\\x93\\xfd\\xe9\\x15\\xc3?'"
      ]
     },
     "execution_count": 403,
     "metadata": {},
     "output_type": "execute_result"
    }
   ],
   "source": [
    "with open(\"rand_array_10_10.npy\", \"rb\") as f:\n",
    "    content = f.read()\n",
    "\n",
    "content"
   ]
  },
  {
   "cell_type": "code",
   "execution_count": 404,
   "metadata": {},
   "outputs": [
    {
     "data": {
      "text/plain": [
       "array([[ True,  True,  True,  True,  True,  True,  True,  True,  True,\n",
       "         True],\n",
       "       [ True,  True,  True,  True,  True,  True,  True,  True,  True,\n",
       "         True],\n",
       "       [ True,  True,  True,  True,  True,  True,  True,  True,  True,\n",
       "         True],\n",
       "       [ True,  True,  True,  True,  True,  True,  True,  True,  True,\n",
       "         True],\n",
       "       [ True,  True,  True,  True,  True,  True,  True,  True,  True,\n",
       "         True],\n",
       "       [ True,  True,  True,  True,  True,  True,  True,  True,  True,\n",
       "         True],\n",
       "       [ True,  True,  True,  True,  True,  True,  True,  True,  True,\n",
       "         True],\n",
       "       [ True,  True,  True,  True,  True,  True,  True,  True,  True,\n",
       "         True],\n",
       "       [ True,  True,  True,  True,  True,  True,  True,  True,  True,\n",
       "         True],\n",
       "       [ True,  True,  True,  True,  True,  True,  True,  True,  True,\n",
       "         True]])"
      ]
     },
     "execution_count": 404,
     "metadata": {},
     "output_type": "execute_result"
    }
   ],
   "source": [
    "# Loading into an nparray\n",
    "loaded_rand = np.load(\"rand_array_10_10.npy\")\n",
    "loaded_rand == rand_array"
   ]
  },
  {
   "cell_type": "code",
   "execution_count": 405,
   "metadata": {},
   "outputs": [],
   "source": [
    "# Saving as csv\n",
    "np.savetxt(\"rand_array_10_10.csv\", rand_array, delimiter=\"    \")"
   ]
  },
  {
   "cell_type": "code",
   "execution_count": 406,
   "metadata": {},
   "outputs": [
    {
     "data": {
      "text/plain": [
       "b'7.491024231226675045e-01    3.772370366265962449e-01    2.800556192583729676e-01    5.738709650542482832e-01    5.616780261259747276e-01    4.483501906784086444e-01    9.029291385964670624e-01    4.218915798704191422e-01    9.031129703960130151e-01    8.677893037771211571e-01\\n5.444902771688152621e-01    5.516263405445100965e-01    5.675897292190213994e-01    3.775586838186939520e-01    3.266629450501564724e-01    9.445720148947135408e-01    9.107719506585468805e-01    6.147495448154995934e-01    6.603580053342258394e-01    4.172468257244970058e-01\\n9.734694592417219017e-01    4.256901828489911832e-02    2.594040330534075345e-01    2.227161190846956851e-01    2.019308454388165641e-01    4.401556483511478435e-01    5.179287561033132370e-01    1.684422920227283127e-01    2.827041573362625293e-01    8.920655889262095739e-01\\n4.595383803131615208e-01    1.579197399729023177e-01    5.536558034669109007e-01    6.316416770831912997e-01    1.177487296610399969e-01    8.620923787918501890e-01    5.060561084637121843e-01    3.002789810853625507e-01    2.670557014352185066e-01    7.237802824134802471e-01\\n6.594703488547105641e-01    7.821598111331233838e-01    3.571987791636308529e-01    8.850772797132705483e-01    5.004831022884949077e-01    8.378273561084929044e-01    5.345486392584833935e-01    6.995381414110871665e-01    3.544381320121193779e-01    3.516304901185296483e-02\\n2.147024937272185019e-01    5.060481095798241569e-02    3.809460099352541818e-01    4.842778490880060849e-01    3.401874384682319619e-01    6.709629687986402580e-01    4.818862326642436855e-02    5.688392794988943457e-01    6.853158317823271339e-02    9.402923878067314112e-01\\n1.501126368113566700e-01    8.998743980043363289e-01    6.358572748260772345e-01    3.714993675160906950e-01    8.592558007541462040e-01    9.248720632870480740e-01    8.711862388909368260e-01    8.837776582781952106e-01    9.433910602886936836e-01    8.899251751516603637e-01\\n9.916987037496794999e-01    1.782044585445325957e-01    1.366539065771397166e-01    4.718682678801272568e-01    6.674860152892797549e-01    4.127886339074995359e-01    1.907556150562756958e-01    2.524711832589120464e-01    3.921474491677358065e-01    3.084758945866933333e-01\\n7.778456390818431210e-01    6.899180880785293901e-02    7.765488109744052014e-01    6.631112743592559866e-01    5.908594778531470748e-01    8.570390138709920169e-01    3.988595918873807378e-01    8.334140260706826009e-01    3.317913954785954855e-01    9.680056327283328432e-01\\n1.581102883116086710e-01    7.873958087786471216e-01    9.270517410392634661e-01    9.233257069381939353e-01    4.781245570131663625e-01    5.835210488213903313e-01    8.771911875323121777e-01    3.370597301854603156e-01    9.741207606979674916e-01    1.491062629853752153e-01\\n'"
      ]
     },
     "execution_count": 406,
     "metadata": {},
     "output_type": "execute_result"
    }
   ],
   "source": [
    "with open(\"rand_array_10_10.csv\",\"rb\") as f:\n",
    "    content = f.read()\n",
    "content"
   ]
  },
  {
   "cell_type": "code",
   "execution_count": 407,
   "metadata": {},
   "outputs": [
    {
     "data": {
      "text/plain": [
       "array([[0.74910242, 0.37723704, 0.28005562, 0.57387097, 0.56167803,\n",
       "        0.44835019, 0.90292914, 0.42189158, 0.90311297, 0.8677893 ],\n",
       "       [0.54449028, 0.55162634, 0.56758973, 0.37755868, 0.32666295,\n",
       "        0.94457201, 0.91077195, 0.61474954, 0.66035801, 0.41724683],\n",
       "       [0.97346946, 0.04256902, 0.25940403, 0.22271612, 0.20193085,\n",
       "        0.44015565, 0.51792876, 0.16844229, 0.28270416, 0.89206559],\n",
       "       [0.45953838, 0.15791974, 0.5536558 , 0.63164168, 0.11774873,\n",
       "        0.86209238, 0.50605611, 0.30027898, 0.2670557 , 0.72378028],\n",
       "       [0.65947035, 0.78215981, 0.35719878, 0.88507728, 0.5004831 ,\n",
       "        0.83782736, 0.53454864, 0.69953814, 0.35443813, 0.03516305],\n",
       "       [0.21470249, 0.05060481, 0.38094601, 0.48427785, 0.34018744,\n",
       "        0.67096297, 0.04818862, 0.56883928, 0.06853158, 0.94029239],\n",
       "       [0.15011264, 0.8998744 , 0.63585727, 0.37149937, 0.8592558 ,\n",
       "        0.92487206, 0.87118624, 0.88377766, 0.94339106, 0.88992518],\n",
       "       [0.9916987 , 0.17820446, 0.13665391, 0.47186827, 0.66748602,\n",
       "        0.41278863, 0.19075562, 0.25247118, 0.39214745, 0.30847589],\n",
       "       [0.77784564, 0.06899181, 0.77654881, 0.66311127, 0.59085948,\n",
       "        0.85703901, 0.39885959, 0.83341403, 0.3317914 , 0.96800563],\n",
       "       [0.15811029, 0.78739581, 0.92705174, 0.92332571, 0.47812456,\n",
       "        0.58352105, 0.87719119, 0.33705973, 0.97412076, 0.14910626]])"
      ]
     },
     "execution_count": 407,
     "metadata": {},
     "output_type": "execute_result"
    }
   ],
   "source": [
    "rand_csv_loaded = np.loadtxt(\"rand_array_10_10.csv\", delimiter=\"    \")\n",
    "rand_csv_loaded"
   ]
  },
  {
   "cell_type": "code",
   "execution_count": 408,
   "metadata": {},
   "outputs": [
    {
     "data": {
      "text/plain": [
       "array([[[ 0,  1,  2,  3],\n",
       "        [ 4,  5,  6,  7],\n",
       "        [ 8,  9, 10, 11]],\n",
       "\n",
       "       [[12, 13, 14, 15],\n",
       "        [16, 17, 18, 19],\n",
       "        [20, 21, 22, 23]]], dtype=uint8)"
      ]
     },
     "execution_count": 408,
     "metadata": {},
     "output_type": "execute_result"
    }
   ],
   "source": [
    "# We can also store multiple nd arrays in a single zip file\n",
    "b = np.arange(24, dtype=np.uint8).reshape(2, 3, 4)\n",
    "b"
   ]
  },
  {
   "cell_type": "code",
   "execution_count": 409,
   "metadata": {},
   "outputs": [],
   "source": [
    "np.savez(\"my_arrays\", my_a=a, my_b=b)"
   ]
  },
  {
   "cell_type": "code",
   "execution_count": 410,
   "metadata": {},
   "outputs": [
    {
     "data": {
      "text/plain": [
       "'b\"PK\\\\x03\\\\x04\\\\x14\\\\x00\\\\x00\\\\x00\\\\x00\\\\x00\\\\x00\\\\x00!\\\\x00\\\\x92\\\\xcd\\\\xd2\\\\xc7\\\\xf8\\\\x00\\\\x00\\\\x00\\\\xf8\\\\x00\\\\x00\\\\x00\\\\x08\\\\x00\\\\x14\\\\x00my_a.npy\\\\x01\\\\x00\\\\x10\\\\x00\\\\xf8\\\\x00\\\\x00\\\\x00\\\\x00\\\\x00\\\\x00\\\\x00\\\\xf8\\\\x00\\\\x0[...]'"
      ]
     },
     "execution_count": 410,
     "metadata": {},
     "output_type": "execute_result"
    }
   ],
   "source": [
    "with open(\"my_arrays.npz\", \"rb\") as f:\n",
    "    content = f.read()\n",
    "\n",
    "# Using repr because it's a zip object\n",
    "repr(content)[:180] + \"[...]\""
   ]
  },
  {
   "cell_type": "code",
   "execution_count": 411,
   "metadata": {},
   "outputs": [
    {
     "data": {
      "text/plain": [
       "<numpy.lib.npyio.NpzFile at 0x7ff98a2b0d30>"
      ]
     },
     "execution_count": 411,
     "metadata": {},
     "output_type": "execute_result"
    }
   ],
   "source": [
    "my_arrays = np.load(\"my_arrays.npz\")\n",
    "my_arrays"
   ]
  },
  {
   "cell_type": "code",
   "execution_count": 412,
   "metadata": {},
   "outputs": [
    {
     "data": {
      "text/plain": [
       "KeysView(<numpy.lib.npyio.NpzFile object at 0x7ff98a2b0d30>)"
      ]
     },
     "execution_count": 412,
     "metadata": {},
     "output_type": "execute_result"
    }
   ],
   "source": [
    "my_arrays.keys()"
   ]
  },
  {
   "cell_type": "code",
   "execution_count": 413,
   "metadata": {},
   "outputs": [
    {
     "data": {
      "text/plain": [
       "array([[ 0,  1,  2,  3,  4],\n",
       "       [ 5,  6,  7,  8,  9],\n",
       "       [10, 11, 12, 13, 14]])"
      ]
     },
     "execution_count": 413,
     "metadata": {},
     "output_type": "execute_result"
    }
   ],
   "source": [
    "my_arrays[\"my_a\"]"
   ]
  }
 ],
 "metadata": {
  "kernelspec": {
   "display_name": "Python 3",
   "language": "python",
   "name": "python3"
  },
  "language_info": {
   "codemirror_mode": {
    "name": "ipython",
    "version": 3
   },
   "file_extension": ".py",
   "mimetype": "text/x-python",
   "name": "python",
   "nbconvert_exporter": "python",
   "pygments_lexer": "ipython3",
   "version": "3.8.2"
  }
 },
 "nbformat": 4,
 "nbformat_minor": 4
}
