{
 "cells": [
  {
   "cell_type": "markdown",
   "metadata": {},
   "source": [
    "# numpy stuff"
   ]
  },
  {
   "cell_type": "markdown",
   "metadata": {},
   "source": [
    "###### cool cool cool "
   ]
  },
  {
   "cell_type": "code",
   "execution_count": 2,
   "metadata": {},
   "outputs": [],
   "source": [
    "import numpy as np"
   ]
  },
  {
   "cell_type": "code",
   "execution_count": 3,
   "metadata": {},
   "outputs": [],
   "source": [
    "# dimension = axis\n",
    "# n(axis) = rank\n",
    "# shape = tuple containing the axis lengths => rank = length of shape"
   ]
  },
  {
   "cell_type": "code",
   "execution_count": 4,
   "metadata": {},
   "outputs": [
    {
     "data": {
      "text/plain": [
       "(3, 4)"
      ]
     },
     "execution_count": 4,
     "metadata": {},
     "output_type": "execute_result"
    }
   ],
   "source": [
    "# get the shape of the ndarray\n",
    "z34 = np.zeros((3,4))\n",
    "z34.shape "
   ]
  },
  {
   "cell_type": "code",
   "execution_count": 5,
   "metadata": {
    "scrolled": true
   },
   "outputs": [
    {
     "data": {
      "text/plain": [
       "2"
      ]
     },
     "execution_count": 5,
     "metadata": {},
     "output_type": "execute_result"
    }
   ],
   "source": [
    "#get the number of dimensions of the array\n",
    "z34.ndim"
   ]
  },
  {
   "cell_type": "code",
   "execution_count": 6,
   "metadata": {},
   "outputs": [
    {
     "data": {
      "text/plain": [
       "12"
      ]
     },
     "execution_count": 6,
     "metadata": {},
     "output_type": "execute_result"
    }
   ],
   "source": [
    "#get the product of the elements in shape which tells us the number of elements in the ndarray\n",
    "z34.size"
   ]
  },
  {
   "cell_type": "code",
   "execution_count": 7,
   "metadata": {},
   "outputs": [
    {
     "data": {
      "text/plain": [
       "array([[[0., 0., 0., 0.],\n",
       "        [0., 0., 0., 0.],\n",
       "        [0., 0., 0., 0.]],\n",
       "\n",
       "       [[0., 0., 0., 0.],\n",
       "        [0., 0., 0., 0.],\n",
       "        [0., 0., 0., 0.]]])"
      ]
     },
     "execution_count": 7,
     "metadata": {},
     "output_type": "execute_result"
    }
   ],
   "source": [
    "#create an n dimensional array\n",
    "np.zeros((2,3,4))"
   ]
  },
  {
   "cell_type": "code",
   "execution_count": 8,
   "metadata": {},
   "outputs": [
    {
     "data": {
      "text/plain": [
       "numpy.ndarray"
      ]
     },
     "execution_count": 8,
     "metadata": {},
     "output_type": "execute_result"
    }
   ],
   "source": [
    "# spit the type of the array\n",
    "type(np.zeros((2,3,4)))"
   ]
  },
  {
   "cell_type": "code",
   "execution_count": 9,
   "metadata": {},
   "outputs": [],
   "source": [
    "#similar to np.zeros excepp youll have ones inside\n",
    "o42 = np.ones((4,2))"
   ]
  },
  {
   "cell_type": "code",
   "execution_count": 10,
   "metadata": {},
   "outputs": [
    {
     "data": {
      "text/plain": [
       "array([[1., 1.],\n",
       "       [1., 1.],\n",
       "       [1., 1.],\n",
       "       [1., 1.]])"
      ]
     },
     "execution_count": 10,
     "metadata": {},
     "output_type": "execute_result"
    }
   ],
   "source": [
    "o42"
   ]
  },
  {
   "cell_type": "code",
   "execution_count": 11,
   "metadata": {},
   "outputs": [],
   "source": [
    "#fills the array with the element specified. here it will be filled with 42 cuz \n",
    "f42 = np.full((4,2), 42)"
   ]
  },
  {
   "cell_type": "code",
   "execution_count": 12,
   "metadata": {},
   "outputs": [
    {
     "data": {
      "text/plain": [
       "array([[42, 42],\n",
       "       [42, 42],\n",
       "       [42, 42],\n",
       "       [42, 42]])"
      ]
     },
     "execution_count": 12,
     "metadata": {},
     "output_type": "execute_result"
    }
   ],
   "source": [
    "f42"
   ]
  },
  {
   "cell_type": "code",
   "execution_count": 13,
   "metadata": {},
   "outputs": [],
   "source": [
    "# np.pi == 3.148369\n",
    "fpi42 = np.full((4,2), np.pi)"
   ]
  },
  {
   "cell_type": "code",
   "execution_count": 14,
   "metadata": {},
   "outputs": [
    {
     "data": {
      "text/plain": [
       "array([[3.14159265, 3.14159265],\n",
       "       [3.14159265, 3.14159265],\n",
       "       [3.14159265, 3.14159265],\n",
       "       [3.14159265, 3.14159265]])"
      ]
     },
     "execution_count": 14,
     "metadata": {},
     "output_type": "execute_result"
    }
   ],
   "source": [
    "fpi42"
   ]
  },
  {
   "cell_type": "code",
   "execution_count": 15,
   "metadata": {},
   "outputs": [
    {
     "data": {
      "text/plain": [
       "array([[3.14159265, 3.14159265],\n",
       "       [3.14159265, 3.14159265],\n",
       "       [3.14159265, 3.14159265],\n",
       "       [3.14159265, 3.14159265]])"
      ]
     },
     "execution_count": 15,
     "metadata": {},
     "output_type": "execute_result"
    }
   ],
   "source": [
    "# the element which is going to be inside is unpredictable. it is whatever is in the memory at that point.\n",
    "np.empty((4,2))"
   ]
  },
  {
   "cell_type": "code",
   "execution_count": 16,
   "metadata": {},
   "outputs": [
    {
     "data": {
      "text/plain": [
       "array([[8, 3, 3, 2, 9],\n",
       "       [8, 1, 4, 9, 8]])"
      ]
     },
     "execution_count": 16,
     "metadata": {},
     "output_type": "execute_result"
    }
   ],
   "source": [
    "# converts virgin python lists to chad ndarray\n",
    "np.array([[8,3,3,2,9],[8,1,4,9,8]])"
   ]
  },
  {
   "cell_type": "code",
   "execution_count": 17,
   "metadata": {},
   "outputs": [
    {
     "data": {
      "text/plain": [
       "array([0, 1, 2, 3, 4, 5, 6, 7, 8, 9])"
      ]
     },
     "execution_count": 17,
     "metadata": {},
     "output_type": "execute_result"
    }
   ],
   "source": [
    "#works like python range function\n",
    "np.arange(10)"
   ]
  },
  {
   "cell_type": "code",
   "execution_count": 18,
   "metadata": {},
   "outputs": [
    {
     "data": {
      "text/plain": [
       "array([1., 2., 3.])"
      ]
     },
     "execution_count": 18,
     "metadata": {},
     "output_type": "execute_result"
    }
   ],
   "source": [
    "#also works with float values\n",
    "np.arange(1.0, 4.0)"
   ]
  },
  {
   "cell_type": "code",
   "execution_count": 19,
   "metadata": {},
   "outputs": [
    {
     "data": {
      "text/plain": [
       "array([1., 3., 5., 7., 9.])"
      ]
     },
     "execution_count": 19,
     "metadata": {},
     "output_type": "execute_result"
    }
   ],
   "source": [
    "#can provide steps cuz its similar to range in vanilla python brih\n",
    "np.arange(1.0, 10.0, 2.0)"
   ]
  },
  {
   "cell_type": "code",
   "execution_count": 20,
   "metadata": {},
   "outputs": [
    {
     "data": {
      "text/plain": [
       "array([1.        , 2.66666667, 4.33333333, 6.        , 7.66666667,\n",
       "       9.33333333])"
      ]
     },
     "execution_count": 20,
     "metadata": {},
     "output_type": "execute_result"
    }
   ],
   "source": [
    "#when dealing with float step values, the number of elements varies. might not be what you expected it to be\n",
    "np.arange(1.0, 10.0, 5/3)"
   ]
  },
  {
   "cell_type": "code",
   "execution_count": 21,
   "metadata": {},
   "outputs": [
    {
     "data": {
      "text/plain": [
       "array([ 1.,  2.,  3.,  4.,  5.,  6.,  7.,  8.,  9., 10.])"
      ]
     },
     "execution_count": 21,
     "metadata": {},
     "output_type": "execute_result"
    }
   ],
   "source": [
    "#which is why you use linspace. it returns an ndarray with 'step' number of equally spaced elements\n",
    "np.linspace(1.0, 10.0, 10)"
   ]
  },
  {
   "cell_type": "code",
   "execution_count": 22,
   "metadata": {},
   "outputs": [
    {
     "data": {
      "text/plain": [
       "array([[0.61412172, 0.94127196, 0.69371022, 0.69396506],\n",
       "       [0.74030603, 0.60794089, 0.46490128, 0.96818377],\n",
       "       [0.15896107, 0.04395395, 0.9972407 , 0.50602888]])"
      ]
     },
     "execution_count": 22,
     "metadata": {},
     "output_type": "execute_result"
    }
   ],
   "source": [
    "#random floats between 0 and 1 with UNIFORM DISTRIBUTION\n",
    "np.random.rand(3,4)"
   ]
  },
  {
   "cell_type": "code",
   "execution_count": 23,
   "metadata": {},
   "outputs": [
    {
     "data": {
      "text/plain": [
       "-0.23025832406760646"
      ]
     },
     "execution_count": 23,
     "metadata": {},
     "output_type": "execute_result"
    }
   ],
   "source": [
    "#random floats between 0 and 1 with NORMAL DISTRIBUTION\n",
    "np.random.randn()"
   ]
  },
  {
   "cell_type": "code",
   "execution_count": 24,
   "metadata": {},
   "outputs": [],
   "source": [
    "%matplotlib inline\n",
    "import matplotlib.pyplot as plt"
   ]
  },
  {
   "cell_type": "code",
   "execution_count": 25,
   "metadata": {},
   "outputs": [
    {
     "data": {
      "image/png": "[encoded data removed]",
      "text/plain": [
       "<Figure size 432x288 with 1 Axes>"
      ]
     },
     "metadata": {
      "needs_background": "light"
     },
     "output_type": "display_data"
    }
   ],
   "source": [
    "#plotting various random value distributions to see wassup\n",
    "plt.hist(np.random.rand(100000), density=True, bins=100, histtype=\"step\", color=\"green\", label=\"rand\")\n",
    "plt.hist(np.random.randn(100000), density=True, bins=100, histtype=\"step\", color=\"orange\", label=\"randn\")\n",
    "plt.axis([-2.5, 2.5, 0, 1.1])\n",
    "plt.legend(loc = \"upper left\")\n",
    "plt.title(\"Random distributions\")\n",
    "plt.xlabel(\"Value\")\n",
    "plt.ylabel(\"Density\")\n",
    "plt.show()"
   ]
  },
  {
   "cell_type": "code",
   "execution_count": 26,
   "metadata": {},
   "outputs": [
    {
     "data": {
      "text/plain": [
       "array([[[ 0.,  0.,  0.,  0.,  0.,  0.,  0.,  0.,  0.,  0.],\n",
       "        [ 0.,  1.,  2.,  3.,  4.,  5.,  6.,  7.,  8.,  9.]],\n",
       "\n",
       "       [[ 1.,  1.,  1.,  1.,  1.,  1.,  1.,  1.,  1.,  1.],\n",
       "        [ 1.,  2.,  3.,  4.,  5.,  6.,  7.,  8.,  9., 10.]],\n",
       "\n",
       "       [[ 2.,  2.,  2.,  2.,  2.,  2.,  2.,  2.,  2.,  2.],\n",
       "        [ 2.,  3.,  4.,  5.,  6.,  7.,  8.,  9., 10., 11.]]])"
      ]
     },
     "execution_count": 26,
     "metadata": {},
     "output_type": "execute_result"
    }
   ],
   "source": [
    "#we can also initialize nd arrays from functions\n",
    "def my_function(z, y, x):\n",
    "    return x * y + z\n",
    "\n",
    "np.fromfunction(my_function, (3, 2, 10))"
   ]
  },
  {
   "cell_type": "code",
   "execution_count": 27,
   "metadata": {},
   "outputs": [
    {
     "data": {
      "text/plain": [
       "(dtype('int64'), array([0, 1, 2, 3, 4]))"
      ]
     },
     "execution_count": 27,
     "metadata": {},
     "output_type": "execute_result"
    }
   ],
   "source": [
    "# all ndarray elements need to be of the same datatype\n",
    "# so you can tell the datatype of the array by looking at the elements of the array\n",
    "x = np.arange(5)\n",
    "x.dtype, x"
   ]
  },
  {
   "cell_type": "code",
   "execution_count": 28,
   "metadata": {},
   "outputs": [
    {
     "data": {
      "text/plain": [
       "(dtype('float64'), array([0., 1., 2., 3., 4.]))"
      ]
     },
     "execution_count": 28,
     "metadata": {},
     "output_type": "execute_result"
    }
   ],
   "source": [
    "f = np.arange(5.0)\n",
    "f.dtype, f"
   ]
  },
  {
   "cell_type": "code",
   "execution_count": 29,
   "metadata": {},
   "outputs": [
    {
     "data": {
      "text/plain": [
       "(dtype('float64'), array([0., 1., 2., 3., 4.]))"
      ]
     },
     "execution_count": 29,
     "metadata": {},
     "output_type": "execute_result"
    }
   ],
   "source": [
    "# instead of allowing numpy to set a datatype, we can use dtype parameter to set it ourselves\n",
    "x = np.arange(5, dtype=np.float64)\n",
    "x.dtype, x\n",
    "#Available data types include int8, int16, int32, int64, uint8|16|32|64, float16|32|64 and complex64|128."
   ]
  },
  {
   "cell_type": "code",
   "execution_count": 30,
   "metadata": {},
   "outputs": [
    {
     "data": {
      "text/plain": [
       "8"
      ]
     },
     "execution_count": 30,
     "metadata": {},
     "output_type": "execute_result"
    }
   ],
   "source": [
    "# we can get the amount of bytes an array is using by itemsize attribute\n",
    "isize = np.arange(15.0)\n",
    "isize.itemsize"
   ]
  },
  {
   "cell_type": "code",
   "execution_count": 31,
   "metadata": {},
   "outputs": [
    {
     "name": "stdout",
     "output_type": "stream",
     "text": [
      "[ 0  1  2  3  4  5  6  7  8  9 10 11 12 13 14 15 16 17 18 19 20 21 22 23\n",
      " 24]\n",
      "Square Matrix Dimensions:  1\n"
     ]
    }
   ],
   "source": [
    "#reshaping an array\n",
    "matrix = np.arange(25)\n",
    "print(matrix)\n",
    "print(\"Square Matrix Dimensions: \", matrix.ndim)"
   ]
  },
  {
   "cell_type": "code",
   "execution_count": 32,
   "metadata": {},
   "outputs": [],
   "source": [
    "# in place. modifies the original array\n",
    "matrix.shape = (5, 5) "
   ]
  },
  {
   "cell_type": "code",
   "execution_count": 33,
   "metadata": {},
   "outputs": [
    {
     "name": "stdout",
     "output_type": "stream",
     "text": [
      "[[ 0  1  2  3  4]\n",
      " [ 5  6  7  8  9]\n",
      " [10 11 12 13 14]\n",
      " [15 16 17 18 19]\n",
      " [20 21 22 23 24]]\n",
      "Square Matrix Dimensions:  2\n"
     ]
    }
   ],
   "source": [
    "print(matrix)\n",
    "print(\"Square Matrix Dimensions: \", matrix.ndim)"
   ]
  },
  {
   "cell_type": "code",
   "execution_count": 34,
   "metadata": {},
   "outputs": [
    {
     "name": "stdout",
     "output_type": "stream",
     "text": [
      "[ 0  1  2  3  4  5  6  7  8  9 10 11 12 13 14 15 16 17 18 19 20 21 22 23\n",
      " 24]\n",
      "[[ 0  1  2  3  4]\n",
      " [ 5  6  7  8  9]\n",
      " [10 11 12 13 14]\n",
      " [15 16 17 18 19]\n",
      " [20 21 22 23 24]]\n"
     ]
    }
   ],
   "source": [
    "# using reshape does not modify the original array. it returns a copy of the original array in the shape specified\n",
    "matrix_2 = np.arange(25)\n",
    "matrix_3 = matrix_2.reshape(5,5)\n",
    "print(matrix_2)\n",
    "print(matrix_3)"
   ]
  },
  {
   "cell_type": "code",
   "execution_count": 35,
   "metadata": {},
   "outputs": [
    {
     "name": "stdout",
     "output_type": "stream",
     "text": [
      "[[  0   1   2   3   4]\n",
      " [  5   6   7   8   9]\n",
      " [ 10  11  12  13  14]\n",
      " [ 15  16  17  18  19]\n",
      " [ 20  21  22  23 420]]\n",
      "\n",
      "[  0   1   2   3   4   5   6   7   8   9  10  11  12  13  14  15  16  17\n",
      "  18  19  20  21  22  23 420]\n"
     ]
    }
   ],
   "source": [
    "# can change the elements of the array as usual\n",
    "# zero based indexing btw\n",
    "matrix_3[4][4] = 420\n",
    "print(matrix_3)\n",
    "print()\n",
    "# also changes the corresponding element in matrix 2 ( the matrix which is the parent of this)\n",
    "print(matrix_2)"
   ]
  },
  {
   "cell_type": "code",
   "execution_count": 36,
   "metadata": {},
   "outputs": [
    {
     "data": {
      "text/plain": [
       "(array([  0,   1,   2,   3,   4,   5,   6,   7,   8,   9,  10,  11,  12,\n",
       "         13,  14,  15,  16,  17,  18,  19,  20,  21,  22,  23, 420]),\n",
       " (25,))"
      ]
     },
     "execution_count": 36,
     "metadata": {},
     "output_type": "execute_result"
    }
   ],
   "source": [
    "# ravel returns a new one dimensional array of the array passed\n",
    "matrix_3.ravel(), matrix_3.ravel().shape"
   ]
  },
  {
   "cell_type": "code",
   "execution_count": 37,
   "metadata": {},
   "outputs": [
    {
     "name": "stdout",
     "output_type": "stream",
     "text": [
      "[ 5  7  9 11 13]\n",
      "[-5 -5 -5 -5 -5]\n",
      "[ 0  6 14 24 36]\n",
      "[0.         0.16666667 0.28571429 0.375      0.44444444]\n",
      "[0 0 0 0 0]\n",
      "[0 1 2 3 4]\n",
      "[     0      1    128   6561 262144]\n"
     ]
    }
   ],
   "source": [
    "# arithmetic operations\n",
    "# all arithmetic operations are applied element wise. even multiplication\n",
    "\n",
    "a = np.arange(5)\n",
    "b = np.arange(5,10)\n",
    "print(a+b)\n",
    "print(a-b)\n",
    "print(a*b)\n",
    "print(a/b)\n",
    "print(a//b)\n",
    "print(a%b)\n",
    "print(a**b)"
   ]
  },
  {
   "cell_type": "code",
   "execution_count": 38,
   "metadata": {},
   "outputs": [],
   "source": [
    "# the arrays must be of the same shape. otherwise numpy will apply it's broadcasting rules.\n",
    "# plox reFUR = https://www.geeksforgeeks.org/python-broadcasting-with-numpy-arrays/\n",
    "# plox also reFUR = https://docs.scipy.org/doc/numpy/user/basics.broadcasting.html"
   ]
  },
  {
   "cell_type": "code",
   "execution_count": 39,
   "metadata": {},
   "outputs": [
    {
     "data": {
      "text/plain": [
       "499.5"
      ]
     },
     "execution_count": 39,
     "metadata": {},
     "output_type": "execute_result"
    }
   ],
   "source": [
    "# mean of an array\n",
    "# mean works irrespective of the dimension i.e., it takes all of the elements into consideration\n",
    "a = np.arange(1000).reshape((4, -1))\n",
    "a.mean()"
   ]
  },
  {
   "cell_type": "code",
   "execution_count": 40,
   "metadata": {},
   "outputs": [
    {
     "name": "stdout",
     "output_type": "stream",
     "text": [
      "[ True  True False False]\n",
      "[  1 -61]\n"
     ]
    }
   ],
   "source": [
    "# conditional operators\n",
    "m = np.array([1, -61, 26, 34])\n",
    "print(m < 25) # applies broadcasting and returns an array of bool values. it's equi to comparing with [25, 25, 25, 25]\n",
    "# it's useful for boolean based indexing\n",
    "print(m[m < 25])"
   ]
  },
  {
   "cell_type": "markdown",
   "metadata": {},
   "source": [
    "#### Mathematical Functions"
   ]
  },
  {
   "cell_type": "code",
   "execution_count": 42,
   "metadata": {},
   "outputs": [
    {
     "name": "stdout",
     "output_type": "stream",
     "text": [
      "[[  1   2   3   4]\n",
      " [ -6  -8 -98 -22]]\n",
      "-15.5\n"
     ]
    }
   ],
   "source": [
    "# mean \n",
    "# computes the mean of all the elements irrespective of the shape\n",
    "a = np.array([[1, 2, 3, 4], [-6, -8, -98, -22]])\n",
    "print(a)\n",
    "print(a.mean())"
   ]
  },
  {
   "cell_type": "code",
   "execution_count": 43,
   "metadata": {},
   "outputs": [
    {
     "name": "stdout",
     "output_type": "stream",
     "text": [
      "min = -98\n",
      "max = 4\n",
      "sum = -124\n",
      "prod = 2483712\n",
      "std = 32.202484376209235\n",
      "var = 1037.0\n"
     ]
    }
   ],
   "source": [
    "for func in (a.min, a.max, a.sum, a.prod, a.std, a.var):\n",
    "    print(func.__name__, \"=\", func())"
   ]
  },
  {
   "cell_type": "code",
   "execution_count": 44,
   "metadata": {},
   "outputs": [
    {
     "data": {
      "text/plain": [
       "array([[[ 0,  1,  2,  3,  4],\n",
       "        [ 5,  6,  7,  8,  9],\n",
       "        [10, 11, 12, 13, 14],\n",
       "        [15, 16, 17, 18, 19],\n",
       "        [20, 21, 22, 23, 24]],\n",
       "\n",
       "       [[25, 26, 27, 28, 29],\n",
       "        [30, 31, 32, 33, 34],\n",
       "        [35, 36, 37, 38, 39],\n",
       "        [40, 41, 42, 43, 44],\n",
       "        [45, 46, 47, 48, 49]]])"
      ]
     },
     "execution_count": 44,
     "metadata": {},
     "output_type": "execute_result"
    }
   ],
   "source": [
    "# we can specify the axis parameter to define which way to perform the functions\n",
    "# for example\n",
    "a = np.arange(50).reshape(2, 5, -1)\n",
    "a"
   ]
  },
  {
   "cell_type": "code",
   "execution_count": 45,
   "metadata": {},
   "outputs": [
    {
     "data": {
      "text/plain": [
       "array([[25, 27, 29, 31, 33],\n",
       "       [35, 37, 39, 41, 43],\n",
       "       [45, 47, 49, 51, 53],\n",
       "       [55, 57, 59, 61, 63],\n",
       "       [65, 67, 69, 71, 73]])"
      ]
     },
     "execution_count": 45,
     "metadata": {},
     "output_type": "execute_result"
    }
   ],
   "source": [
    "# axis = 0\n",
    "# sum across the two matrices i.e., sum of the two matrices\n",
    "a.sum(axis = 0)"
   ]
  },
  {
   "cell_type": "code",
   "execution_count": 46,
   "metadata": {},
   "outputs": [
    {
     "data": {
      "text/plain": [
       "array([[ 50,  55,  60,  65,  70],\n",
       "       [175, 180, 185, 190, 195]])"
      ]
     },
     "execution_count": 46,
     "metadata": {},
     "output_type": "execute_result"
    }
   ],
   "source": [
    "# axis = 1\n",
    "# sum across the rows\n",
    "a.sum(axis = 1)"
   ]
  },
  {
   "cell_type": "code",
   "execution_count": 48,
   "metadata": {},
   "outputs": [
    {
     "data": {
      "text/plain": [
       "array([[ 10,  35,  60,  85, 110],\n",
       "       [135, 160, 185, 210, 235]])"
      ]
     },
     "execution_count": 48,
     "metadata": {},
     "output_type": "execute_result"
    }
   ],
   "source": [
    "# axis = 2\n",
    "# sum across the columns\n",
    "a.sum(axis = 2)"
   ]
  },
  {
   "cell_type": "code",
   "execution_count": 61,
   "metadata": {},
   "outputs": [
    {
     "data": {
      "text/plain": [
       "array([300, 925])"
      ]
     },
     "execution_count": 61,
     "metadata": {},
     "output_type": "execute_result"
    }
   ],
   "source": [
    "# we can also find sum over multiple axes\n",
    "# sum across the rows and columns i.e., sum of individual matrices\n",
    "a.sum(axis = (1, 2))"
   ]
  },
  {
   "cell_type": "code",
   "execution_count": 68,
   "metadata": {},
   "outputs": [
    {
     "data": {
      "text/plain": [
       "array([[ 1,  4,  9, 16],\n",
       "       [81, 64, 49, 36]])"
      ]
     },
     "execution_count": 68,
     "metadata": {},
     "output_type": "execute_result"
    }
   ],
   "source": [
    "# Universal Functions: *ufunc* -> They take an array and return a new array. They are vectorized wrappers of the original function.\n",
    "# ex\n",
    "a = np.array([[1, 2, 3, 4], [9, -8, 7, 6]])\n",
    "np.square(a)"
   ]
  },
  {
   "cell_type": "code",
   "execution_count": 70,
   "metadata": {},
   "outputs": [
    {
     "name": "stdout",
     "output_type": "stream",
     "text": [
      "<ufunc 'absolute'>\n",
      "[[1 2 3 4]\n",
      " [9 8 7 6]] \n",
      "\n",
      "<ufunc 'sqrt'>\n",
      "[[1.         1.41421356 1.73205081 2.        ]\n",
      " [3.                nan 2.64575131 2.44948974]] \n",
      "\n",
      "<ufunc 'exp'>\n",
      "[[2.71828183e+00 7.38905610e+00 2.00855369e+01 5.45981500e+01]\n",
      " [8.10308393e+03 3.35462628e-04 1.09663316e+03 4.03428793e+02]] \n",
      "\n",
      "<ufunc 'log'>\n",
      "[[0.         0.69314718 1.09861229 1.38629436]\n",
      " [2.19722458        nan 1.94591015 1.79175947]] \n",
      "\n",
      "<ufunc 'sign'>\n",
      "[[ 1  1  1  1]\n",
      " [ 1 -1  1  1]] \n",
      "\n",
      "<ufunc 'ceil'>\n",
      "[[ 1.  2.  3.  4.]\n",
      " [ 9. -8.  7.  6.]] \n",
      "\n",
      "<ufunc 'modf'>\n",
      "(array([[ 0.,  0.,  0.,  0.],\n",
      "       [ 0., -0.,  0.,  0.]]), array([[ 1.,  2.,  3.,  4.],\n",
      "       [ 9., -8.,  7.,  6.]])) \n",
      "\n",
      "<ufunc 'isnan'>\n",
      "[[False False False False]\n",
      " [False False False False]] \n",
      "\n",
      "<ufunc 'cos'>\n",
      "[[ 0.54030231 -0.41614684 -0.9899925  -0.65364362]\n",
      " [-0.91113026 -0.14550003  0.75390225  0.96017029]] \n",
      "\n"
     ]
    },
    {
     "name": "stderr",
     "output_type": "stream",
     "text": [
      "<ipython-input-70-933e75773baa>:4: RuntimeWarning: invalid value encountered in sqrt\n",
      "  print(func(a), \"\\n\")\n",
      "<ipython-input-70-933e75773baa>:4: RuntimeWarning: invalid value encountered in log\n",
      "  print(func(a), \"\\n\")\n"
     ]
    }
   ],
   "source": [
    "# Other ufuncs\n",
    "for func in (np.abs, np.sqrt, np.exp, np.log, np.sign, np.ceil, np.modf, np.isnan, np.cos):\n",
    "    print(func)\n",
    "    print(func(a), \"\\n\")\n",
    "\n",
    "# Brother pls ignore errors in some functions becuase there are some negative values in there"
   ]
  },
  {
   "cell_type": "code",
   "execution_count": 73,
   "metadata": {},
   "outputs": [
    {
     "name": "stdout",
     "output_type": "stream",
     "text": [
      "add\n",
      "[-1 15  7 -1] \n",
      "\n",
      "greater\n",
      "[ True False False False] \n",
      "\n",
      "maximum\n",
      "[1 8 4 5] \n",
      "\n",
      "copysign\n",
      "[-1.  7.  3.  6.] \n",
      "\n"
     ]
    }
   ],
   "source": [
    "# Binary ufuncs take two arrays and apply ufuncs on them and return a new array. Broadcasting rules are applied if the two arrays are not of the same shape\n",
    "\n",
    "a = np.array([1, 7, 3, -6])\n",
    "b = np.array([-2, 8, 4, 5])\n",
    "\n",
    "for func in (np.add, np.greater, np.maximum, np.copysign):\n",
    "    print(func.__name__)\n",
    "    print(func(a, b), \"\\n\")"
   ]
  },
  {
   "cell_type": "code",
   "execution_count": 75,
   "metadata": {},
   "outputs": [
    {
     "name": "stdout",
     "output_type": "stream",
     "text": [
      "[ 1  7  3 -6]\n",
      "[ 1  7 -1 -1]\n"
     ]
    }
   ],
   "source": [
    "# Slicing and assigning\n",
    "print(a)\n",
    "a[2:4] = -1 # Because of broadcasting rules, -1 will be assigned to the entire slice contrary to normie python lists\n",
    "print(a)"
   ]
  },
  {
   "cell_type": "code",
   "execution_count": 78,
   "metadata": {},
   "outputs": [
    {
     "name": "stdout",
     "output_type": "stream",
     "text": [
      "Original Array before slicing\n",
      "[0 1 2 3 4 5 6 7 8 9]\n",
      "Sliced array after modifying\n",
      "[   5 5000    7    8    9]\n",
      "[   0    1    2    3    4    5 5000    7    8    9]\n",
      "Modifying parent array\n",
      "[   0    1    2    3    4    5 6000    7    8    9]\n",
      "[   5 6000    7    8    9]\n"
     ]
    }
   ],
   "source": [
    "# SLICES ARE ACTUALLY VIEWS OF THE SAME DATA BUFFER\n",
    "# I.E., IF YOU CREATE A NEW ARRAY FROM A SLICE AND MODIFY THE NEW ARRAY, YOU WILL CHANGE THE CONTENTS OF THE ORIGINAL ARRAY AS WELL\n",
    "a = np.arange(10)\n",
    "print(\"Original Array before slicing\")\n",
    "print(a)\n",
    "a_sliced = a[5:]\n",
    "a_sliced[1] = 5000\n",
    "print(\"Sliced array after modifying\")\n",
    "print(a_sliced)\n",
    "print(a)\n",
    "print(\"Modifying parent array\")\n",
    "a[6] = 6000\n",
    "print(a)\n",
    "print(a_sliced)"
   ]
  },
  {
   "cell_type": "code",
   "execution_count": 81,
   "metadata": {},
   "outputs": [
    {
     "name": "stdout",
     "output_type": "stream",
     "text": [
      "Original Array before slicing\n",
      "[0 1 2 3 4 5 6 7 8 9]\n",
      "Sliced array after modifying\n",
      "[5 6 7 8 9]\n",
      "[0 1 2 3 4 5 6 7 8 9]\n",
      "Modifying parent array\n",
      "[   0    1    2    3    4    5 6000    7    8    9]\n",
      "[5 6 7 8 9]\n"
     ]
    }
   ],
   "source": [
    "# If you don't want them to change values unintentionally, be a good boi and use the copy function when dooping them arrays\n",
    "# ex\n",
    "a = np.arange(10)\n",
    "a_sliced = a[5:].copy()\n",
    "print(\"Original Array before slicing\")\n",
    "print(a)\n",
    "print(\"Sliced array after modifying\")\n",
    "print(a_sliced)\n",
    "print(a)\n",
    "print(\"Modifying parent array\")\n",
    "a[6] = 6000\n",
    "print(a)\n",
    "print(a_sliced)"
   ]
  },
  {
   "cell_type": "code",
   "execution_count": 89,
   "metadata": {},
   "outputs": [
    {
     "name": "stdout",
     "output_type": "stream",
     "text": [
      "[[ 0  1  2  3  4]\n",
      " [ 5  6  7  8  9]\n",
      " [10 11 12 13 14]\n",
      " [15 16 17 18 19]\n",
      " [20 21 22 23 24]]\n",
      "7\n",
      "[ 2  7 12 17 22]\n",
      "[10 11 12 13 14]\n"
     ]
    }
   ],
   "source": [
    "# Playin' with multidimensional arrays\n",
    "a = np.arange(25).reshape(5,-1)\n",
    "print(a)\n",
    "print(a[1,2]) # 2nd row 3rd column\n",
    "print(a[:,2]) # All rows 3rd column\n",
    "print(a[2,:]) # 2nd row all columns"
   ]
  },
  {
   "cell_type": "code",
   "execution_count": 102,
   "metadata": {},
   "outputs": [
    {
     "name": "stdout",
     "output_type": "stream",
     "text": [
      "[[10 11 12 13 14 15 16 17 18 19]\n",
      " [30 31 32 33 34 35 36 37 38 39]]\n",
      "\n",
      " [[ 0  1  2  3  4  5  6  7  8  9]\n",
      " [10 11 12 13 14 15 16 17 18 19]\n",
      " [20 21 22 23 24 25 26 27 28 29]\n",
      " [30 31 32 33 34 35 36 37 38 39]\n",
      " [40 41 42 43 44 45 46 47 48 49]\n",
      " [50 51 52 53 54 55 56 57 58 59]\n",
      " [60 61 62 63 64 65 66 67 68 69]] \n",
      "\n",
      "[12 31 59]\n"
     ]
    }
   ],
   "source": [
    "# Fancy Indexing\n",
    "# You provide multiple indices instead of a single index or a splice\n",
    "print(a[(1,3),:]) # 2nd and 4th row, and all columns\n",
    "# If you give lists for both rows and columns, it will return a 1 dimensional array with elements at those co ordinates.\n",
    "# It will throw an error if both lists are not of the same length\n",
    "a = np.arange(70).reshape(7,-1)\n",
    "print(\"\\n\", a, \"\\n\")\n",
    "print(a[(1, 3, 5), (2, 1, -1)]) # -> will return a[1,2], a[3, 1], a[5, -1] in a 1dimensional array"
   ]
  },
  {
   "cell_type": "code",
   "execution_count": 107,
   "metadata": {},
   "outputs": [
    {
     "data": {
      "text/plain": [
       "(array([[[ 0,  1,  2,  3,  4],\n",
       "         [ 5,  6,  7,  8,  9]],\n",
       " \n",
       "        [[10, 11, 12, 13, 14],\n",
       "         [15, 16, 17, 18, 19]],\n",
       " \n",
       "        [[20, 21, 22, 23, 24],\n",
       "         [25, 26, 27, 28, 29]],\n",
       " \n",
       "        [[30, 31, 32, 33, 34],\n",
       "         [35, 36, 37, 38, 39]],\n",
       " \n",
       "        [[40, 41, 42, 43, 44],\n",
       "         [45, 46, 47, 48, 49]]]),\n",
       " array([15, 16, 17, 18, 19]))"
      ]
     },
     "execution_count": 107,
     "metadata": {},
     "output_type": "execute_result"
    }
   ],
   "source": [
    "# MOAR DIMENSHIONS\n",
    "a = np.arange(50).reshape(5, 2, -1)\n",
    "a, a[1,1,:] # 2nd Matrix, 2nd Row, All Columns"
   ]
  },
  {
   "cell_type": "code",
   "execution_count": 115,
   "metadata": {},
   "outputs": [
    {
     "name": "stdout",
     "output_type": "stream",
     "text": [
      "-> [[[ 0  1  2  3  4]\n",
      "  [ 5  6  7  8  9]\n",
      "  [10 11 12 13 14]\n",
      "  [15 16 17 18 19]]\n",
      "\n",
      " [[20 21 22 23 24]\n",
      "  [25 26 27 28 29]\n",
      "  [30 31 32 33 34]\n",
      "  [35 36 37 38 39]]\n",
      "\n",
      " [[40 41 42 43 44]\n",
      "  [45 46 47 48 49]\n",
      "  [50 51 52 53 54]\n",
      "  [55 56 57 58 59]]\n",
      "\n",
      " [[60 61 62 63 64]\n",
      "  [65 66 67 68 69]\n",
      "  [70 71 72 73 74]\n",
      "  [75 76 77 78 79]]\n",
      "\n",
      " [[80 81 82 83 84]\n",
      "  [85 86 87 88 89]\n",
      "  [90 91 92 93 94]\n",
      "  [95 96 97 98 99]]] \n",
      "\n",
      "-> [[40 41 42 43 44]\n",
      " [45 46 47 48 49]\n",
      " [50 51 52 53 54]\n",
      " [55 56 57 58 59]] \n",
      "\n",
      "-> [70 71 72 73 74] \n",
      "\n"
     ]
    }
   ],
   "source": [
    "# Ellipsis : -> ... <- (3 dots)\n",
    "# It is similar to ':' except it works for rows, columns and everything at the same time\n",
    "a = np.arange(100).reshape(5, 4, -1)\n",
    "print(\"->\", a, \"\\n\")\n",
    "print(\"->\", a[2, ...], \"\\n\") # It means 3rd matrix, all rows and columns, it is equivalent to a[2, :, :]\n",
    "print(\"->\", a[3, 2, ...], \"\\n\") # It means 4th matrix, 3rd row and all columns. It is equivalent to a[3, 2, :]\n"
   ]
  },
  {
   "cell_type": "code",
   "execution_count": 121,
   "metadata": {},
   "outputs": [
    {
     "name": "stdout",
     "output_type": "stream",
     "text": [
      "[[ 0  1  2  3  4  5  6  7  8  9]\n",
      " [20 21 22 23 24 25 26 27 28 29]\n",
      " [40 41 42 43 44 45 46 47 48 49]]\n",
      "[[ 0  2  4  6  8]\n",
      " [10 12 14 16 18]\n",
      " [20 22 24 26 28]\n",
      " [30 32 34 36 38]\n",
      " [40 42 44 46 48]]\n"
     ]
    }
   ],
   "source": [
    "# Boolean Indexing\n",
    "# You use bools to index through an array cuz that's what cool kidz do\n",
    "a = np.arange(50).reshape(5, 10)\n",
    "row_bool_indices = np.array([True, False, True, False, True])\n",
    "print(a[row_bool_indices, :]) # Similar to a[(0,2,4),:]\n",
    "col_bool_indices = np.array([True, False]*5) # Matrix multiplication to repeat the true false pattern 5 times\n",
    "print(a[:, col_bool_indices])"
   ]
  },
  {
   "cell_type": "code",
   "execution_count": 128,
   "metadata": {},
   "outputs": [
    {
     "data": {
      "text/plain": [
       "array([[ 0,  2,  4,  6,  8],\n",
       "       [20, 22, 24, 26, 28],\n",
       "       [40, 42, 44, 46, 48]])"
      ]
     },
     "execution_count": 128,
     "metadata": {},
     "output_type": "execute_result"
    }
   ],
   "source": [
    "# np.ix_\n",
    "# The boolean indexing seen above will not work when used on both rows and columns at once\n",
    "# You gotta use np.ix_ for that\n",
    "a[np.ix_(row_bool_indices, col_bool_indices)]\n",
    "# Similar to list indices, if two equal sized bool indices are passed, you get a one dimensional array with the elements at those coordinates"
   ]
  },
  {
   "cell_type": "code",
   "execution_count": 133,
   "metadata": {},
   "outputs": [
    {
     "data": {
      "text/plain": [
       "array([ 0,  2,  4,  6,  8, 10, 12, 14, 16, 18, 20, 22, 24, 26, 28, 30, 32,\n",
       "       34, 36, 38, 40, 42, 44, 46, 48])"
      ]
     },
     "execution_count": 133,
     "metadata": {},
     "output_type": "execute_result"
    }
   ],
   "source": [
    "a[ a % 2 == 0 ] # ez way to get all even numbers in the array. some real gangsta sith"
   ]
  },
  {
   "cell_type": "code",
   "execution_count": 144,
   "metadata": {},
   "outputs": [
    {
     "name": "stdout",
     "output_type": "stream",
     "text": [
      "\n",
      " printing i \n",
      "\n",
      "[[ 0  1  2  3]\n",
      " [ 4  5  6  7]\n",
      " [ 8  9 10 11]\n",
      " [12 13 14 15]]\n",
      "\n",
      " printing i \n",
      "\n",
      "[[16 17 18 19]\n",
      " [20 21 22 23]\n",
      " [24 25 26 27]\n",
      " [28 29 30 31]]\n",
      "\n",
      " printing i \n",
      "\n",
      "[[32 33 34 35]\n",
      " [36 37 38 39]\n",
      " [40 41 42 43]\n",
      " [44 45 46 47]]\n",
      "\n",
      "Method 2\n",
      "\n",
      "\n",
      " printing i \n",
      "\n",
      "[[ 0  1  2  3]\n",
      " [ 4  5  6  7]\n",
      " [ 8  9 10 11]\n",
      " [12 13 14 15]]\n",
      "\n",
      " printing i \n",
      "\n",
      "[[16 17 18 19]\n",
      " [20 21 22 23]\n",
      " [24 25 26 27]\n",
      " [28 29 30 31]]\n",
      "\n",
      " printing i \n",
      "\n",
      "[[32 33 34 35]\n",
      " [36 37 38 39]\n",
      " [40 41 42 43]\n",
      " [44 45 46 47]]\n"
     ]
    }
   ],
   "source": [
    "# Iterating over the matrix\n",
    "a = np.arange(48).reshape(3, 4, -1)\n",
    "\n",
    "for i in a:\n",
    "    print(\"\\n printing i \\n\")\n",
    "    print(i)\n",
    "    \n",
    "print(\"\\nMethod 2\\n\")\n",
    "    \n",
    "for i in range(len(a)):\n",
    "    print(\"\\n printing i \\n\")\n",
    "    print(a[i])"
   ]
  },
  {
   "cell_type": "code",
   "execution_count": 148,
   "metadata": {},
   "outputs": [
    {
     "name": "stdout",
     "output_type": "stream",
     "text": [
      "Value: 0\n",
      "Value: 1\n",
      "Value: 2\n",
      "Value: 3\n",
      "Value: 4\n",
      "Value: 5\n",
      "Value: 6\n",
      "Value: 7\n",
      "Value: 8\n",
      "Value: 9\n",
      "Value: 10\n",
      "Value: 11\n",
      "Value: 12\n",
      "Value: 13\n",
      "Value: 14\n",
      "Value: 15\n",
      "Value: 16\n",
      "Value: 17\n",
      "Value: 18\n",
      "Value: 19\n",
      "Value: 20\n",
      "Value: 21\n",
      "Value: 22\n",
      "Value: 23\n",
      "Value: 24\n",
      "Value: 25\n",
      "Value: 26\n",
      "Value: 27\n",
      "Value: 28\n",
      "Value: 29\n",
      "Value: 30\n",
      "Value: 31\n",
      "Value: 32\n",
      "Value: 33\n",
      "Value: 34\n",
      "Value: 35\n",
      "Value: 36\n",
      "Value: 37\n",
      "Value: 38\n",
      "Value: 39\n",
      "Value: 40\n",
      "Value: 41\n",
      "Value: 42\n",
      "Value: 43\n",
      "Value: 44\n",
      "Value: 45\n",
      "Value: 46\n",
      "Value: 47\n"
     ]
    }
   ],
   "source": [
    "# If you want to iterate over all the values of the array irrespective of the dimension, you've to use .flat attribute\n",
    "\n",
    "for i in a.flat:\n",
    "    print(\"Value:\", i)"
   ]
  },
  {
   "cell_type": "code",
   "execution_count": 152,
   "metadata": {},
   "outputs": [],
   "source": [
    "# Stacking arrays\n",
    "# Creating 3 dummy arrays first\n",
    "d1 = np.arange(20,40).reshape(4,5)\n",
    "d2 = np.arange(80, 100).reshape(5,4)\n",
    "d3 = np.arange(20).reshape(4,5)"
   ]
  },
  {
   "cell_type": "code",
   "execution_count": 156,
   "metadata": {},
   "outputs": [
    {
     "data": {
      "text/plain": [
       "array([[20, 21, 22, 23, 24],\n",
       "       [25, 26, 27, 28, 29],\n",
       "       [30, 31, 32, 33, 34],\n",
       "       [35, 36, 37, 38, 39],\n",
       "       [ 0,  1,  2,  3,  4],\n",
       "       [ 5,  6,  7,  8,  9],\n",
       "       [10, 11, 12, 13, 14],\n",
       "       [15, 16, 17, 18, 19]])"
      ]
     },
     "execution_count": 156,
     "metadata": {},
     "output_type": "execute_result"
    }
   ],
   "source": [
    "v_stacked = np.vstack((d1, d3)) # Only d1 and d3 can be stacked vertically because, since it's vertical the number of columns should be the same\n",
    "v_stacked"
   ]
  },
  {
   "cell_type": "code",
   "execution_count": 157,
   "metadata": {},
   "outputs": [
    {
     "data": {
      "text/plain": [
       "array([[20, 21, 22, 23, 24,  0,  1,  2,  3,  4],\n",
       "       [25, 26, 27, 28, 29,  5,  6,  7,  8,  9],\n",
       "       [30, 31, 32, 33, 34, 10, 11, 12, 13, 14],\n",
       "       [35, 36, 37, 38, 39, 15, 16, 17, 18, 19]])"
      ]
     },
     "execution_count": 157,
     "metadata": {},
     "output_type": "execute_result"
    }
   ],
   "source": [
    "h_stacked = np.hstack((d1, d3)) # Only d1 and d3 can be stacked horizontally because, since it's horizontal the number of rows should be the same\n",
    "h_stacked"
   ]
  },
  {
   "cell_type": "code",
   "execution_count": 160,
   "metadata": {},
   "outputs": [
    {
     "data": {
      "text/plain": [
       "array([[20, 21, 22, 23, 24],\n",
       "       [25, 26, 27, 28, 29],\n",
       "       [30, 31, 32, 33, 34],\n",
       "       [35, 36, 37, 38, 39],\n",
       "       [ 0,  1,  2,  3,  4],\n",
       "       [ 5,  6,  7,  8,  9],\n",
       "       [10, 11, 12, 13, 14],\n",
       "       [15, 16, 17, 18, 19]])"
      ]
     },
     "execution_count": 160,
     "metadata": {},
     "output_type": "execute_result"
    }
   ],
   "source": [
    "concd = np.concatenate((d1, d3), axis = 0) # This is equivalent to vstack\n",
    "concd"
   ]
  },
  {
   "cell_type": "code",
   "execution_count": 161,
   "metadata": {},
   "outputs": [
    {
     "data": {
      "text/plain": [
       "array([[20, 21, 22, 23, 24,  0,  1,  2,  3,  4],\n",
       "       [25, 26, 27, 28, 29,  5,  6,  7,  8,  9],\n",
       "       [30, 31, 32, 33, 34, 10, 11, 12, 13, 14],\n",
       "       [35, 36, 37, 38, 39, 15, 16, 17, 18, 19]])"
      ]
     },
     "execution_count": 161,
     "metadata": {},
     "output_type": "execute_result"
    }
   ],
   "source": [
    "concd = np.concatenate((d1, d3), axis = 1) # This is equivalent to hstack\n",
    "concd"
   ]
  },
  {
   "cell_type": "code",
   "execution_count": 164,
   "metadata": {},
   "outputs": [
    {
     "data": {
      "text/plain": [
       "(array([[[20, 21, 22, 23, 24],\n",
       "         [25, 26, 27, 28, 29],\n",
       "         [30, 31, 32, 33, 34],\n",
       "         [35, 36, 37, 38, 39]],\n",
       " \n",
       "        [[ 0,  1,  2,  3,  4],\n",
       "         [ 5,  6,  7,  8,  9],\n",
       "         [10, 11, 12, 13, 14],\n",
       "         [15, 16, 17, 18, 19]]]),\n",
       " (2, 4, 5))"
      ]
     },
     "execution_count": 164,
     "metadata": {},
     "output_type": "execute_result"
    }
   ],
   "source": [
    "# np.stack stacks arrays into a new dimension. they need to have the same shape\n",
    "new_stacked = np.stack((d1, d3))\n",
    "new_stacked, new_stacked.shape"
   ]
  },
  {
   "cell_type": "code",
   "execution_count": 166,
   "metadata": {},
   "outputs": [
    {
     "data": {
      "text/plain": [
       "array([[ 0,  1,  2,  3,  4,  5,  6,  7,  8,  9],\n",
       "       [10, 11, 12, 13, 14, 15, 16, 17, 18, 19],\n",
       "       [20, 21, 22, 23, 24, 25, 26, 27, 28, 29]])"
      ]
     },
     "execution_count": 166,
     "metadata": {},
     "output_type": "execute_result"
    }
   ],
   "source": [
    "# Splitting is the opposite of stacking\n",
    "a = np.arange(30).reshape(3,-1)\n",
    "a"
   ]
  },
  {
   "cell_type": "code",
   "execution_count": 168,
   "metadata": {},
   "outputs": [
    {
     "data": {
      "text/plain": [
       "[array([[0, 1, 2, 3, 4, 5, 6, 7, 8, 9]]),\n",
       " array([[10, 11, 12, 13, 14, 15, 16, 17, 18, 19]]),\n",
       " array([[20, 21, 22, 23, 24, 25, 26, 27, 28, 29]])]"
      ]
     },
     "execution_count": 168,
     "metadata": {},
     "output_type": "execute_result"
    }
   ],
   "source": [
    "# Using split with a number 'n' will return 'n' number of equal sized matrices\n",
    "np.split(a, 3)"
   ]
  },
  {
   "cell_type": "code",
   "execution_count": 169,
   "metadata": {},
   "outputs": [],
   "source": [
    "# We also got hsplit which is equivalent to calling split with axis 1 and vsplit which is equivalent to calling split with axis 0."
   ]
  },
  {
   "cell_type": "code",
   "execution_count": 175,
   "metadata": {},
   "outputs": [
    {
     "name": "stdout",
     "output_type": "stream",
     "text": [
      "[[[ 0  1]\n",
      "  [ 2  3]\n",
      "  [ 4  5]\n",
      "  [ 6  7]\n",
      "  [ 8  9]]\n",
      "\n",
      " [[10 11]\n",
      "  [12 13]\n",
      "  [14 15]\n",
      "  [16 17]\n",
      "  [18 19]]\n",
      "\n",
      " [[20 21]\n",
      "  [22 23]\n",
      "  [24 25]\n",
      "  [26 27]\n",
      "  [28 29]]] \n",
      "\n",
      "[[[ 0 10 20]\n",
      "  [ 1 11 21]]\n",
      "\n",
      " [[ 2 12 22]\n",
      "  [ 3 13 23]]\n",
      "\n",
      " [[ 4 14 24]\n",
      "  [ 5 15 25]]\n",
      "\n",
      " [[ 6 16 26]\n",
      "  [ 7 17 27]]\n",
      "\n",
      " [[ 8 18 28]\n",
      "  [ 9 19 29]]] \n",
      "\n",
      "[[[ 0  2  4  6  8]\n",
      "  [ 1  3  5  7  9]]\n",
      "\n",
      " [[10 12 14 16 18]\n",
      "  [11 13 15 17 19]]\n",
      "\n",
      " [[20 22 24 26 28]\n",
      "  [21 23 25 27 29]]] \n",
      "\n",
      "[[[ 0  2  4  6  8]\n",
      "  [ 1  3  5  7  9]]\n",
      "\n",
      " [[10 12 14 16 18]\n",
      "  [11 13 15 17 19]]\n",
      "\n",
      " [[20 22 24 26 28]\n",
      "  [21 23 25 27 29]]] \n",
      "\n"
     ]
    }
   ],
   "source": [
    "# Transpose of matrices\n",
    "# when you do reshape of a matrix with three parameters it's of the form reshape(depth, height, width). Let's denote these as (0, 1, 2)\n",
    "# You can use transpose to reorder them. \n",
    "# ex np.transpose(1,2,0) makes the matrix have depth = prev height, height = prev width, width = prev depth\n",
    "a = np.arange(30).reshape(3, 5, 2)\n",
    "print(a, \"\\n\")\n",
    "a_t1 = a.transpose(1, 2, 0)\n",
    "print(a_t1, \"\\n\")\n",
    "a_t2 = a.transpose(0, 2, 1)\n",
    "print(a_t2, \"\\n\")\n",
    "# By default transpose converts (0, 1, 2) to (2, 1, 0)\n",
    "a_td = a.transpose()\n",
    "# There's also swap axes which will swap the two axes provided\n",
    "a_s1 = a.swapaxes(2,1) # converts (0, 1, 2) to (0, 2, 1)\n",
    "print(a_s1, \"\\n\")"
   ]
  },
  {
   "cell_type": "markdown",
   "metadata": {},
   "source": [
    "### Linear Algebra "
   ]
  },
  {
   "cell_type": "code",
   "execution_count": 178,
   "metadata": {},
   "outputs": [
    {
     "data": {
      "text/plain": [
       "array([[ 0,  1,  2,  3],\n",
       "       [ 4,  5,  6,  7],\n",
       "       [ 8,  9, 10, 11],\n",
       "       [12, 13, 14, 15]])"
      ]
     },
     "execution_count": 178,
     "metadata": {},
     "output_type": "execute_result"
    }
   ],
   "source": [
    "a = np.arange(16).reshape(4, 4)\n",
    "a"
   ]
  },
  {
   "cell_type": "code",
   "execution_count": 177,
   "metadata": {},
   "outputs": [
    {
     "data": {
      "text/plain": [
       "array([[ 0,  4,  8, 12],\n",
       "       [ 1,  5,  9, 13],\n",
       "       [ 2,  6, 10, 14],\n",
       "       [ 3,  7, 11, 15]])"
      ]
     },
     "execution_count": 177,
     "metadata": {},
     "output_type": "execute_result"
    }
   ],
   "source": [
    "# for transposing a matrix, you just gotta do ''.T' only when the rank is >= 2\n",
    "a.T"
   ]
  },
  {
   "cell_type": "code",
   "execution_count": 180,
   "metadata": {},
   "outputs": [
    {
     "data": {
      "text/plain": [
       "array([[ 240,  250,  260],\n",
       "       [ 765,  800,  835],\n",
       "       [1290, 1350, 1410]])"
      ]
     },
     "execution_count": 180,
     "metadata": {},
     "output_type": "execute_result"
    }
   ],
   "source": [
    "# For the matrix multiplication, the n(columns) of the first matrix must be equal to n(rows) of the second matrix\n",
    "# The normal * multiplication is not matrix multiplication. It's Hadamard Multiplication\n",
    "a = np.arange(15).reshape(3, 5)\n",
    "b = np.arange(15,30).reshape(5, 3)\n",
    "# Size matches\n",
    "# To multiply them, use .dot() method\n",
    "a.dot(b)"
   ]
  },
  {
   "cell_type": "code",
   "execution_count": null,
   "metadata": {},
   "outputs": [],
   "source": []
  }
 ],
 "metadata": {
  "kernelspec": {
   "display_name": "Python 3",
   "language": "python",
   "name": "python3"
  },
  "language_info": {
   "codemirror_mode": {
    "name": "ipython",
    "version": 3
   },
   "file_extension": ".py",
   "mimetype": "text/x-python",
   "name": "python",
   "nbconvert_exporter": "python",
   "pygments_lexer": "ipython3",
   "version": "3.8.2"
  }
 },
 "nbformat": 4,
 "nbformat_minor": 4
}
